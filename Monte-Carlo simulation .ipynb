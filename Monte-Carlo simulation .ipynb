{
 "cells": [
  {
   "cell_type": "code",
   "execution_count": 4,
   "id": "187877fb-d868-457f-8911-b0520b90c403",
   "metadata": {
    "tags": []
   },
   "outputs": [
    {
     "data": {
      "text/plain": [
       "array([ 15,  17, 328, 350,  47, 263, 352, 181,  99,  92])"
      ]
     },
     "execution_count": 4,
     "metadata": {},
     "output_type": "execute_result"
    }
   ],
   "source": [
    "import numpy as np\n",
    "np.random.uniform(0,1)\n",
    "np.random.uniform(0,1,size = 10)\n",
    "np.random.choice(range(365), size = 10)"
   ]
  },
  {
   "cell_type": "code",
   "execution_count": 14,
   "id": "3bbe4af0-5a98-4fc8-aa72-cedea3388e1f",
   "metadata": {
    "tags": []
   },
   "outputs": [
    {
     "data": {
      "text/plain": [
       "0.497"
      ]
     },
     "execution_count": 14,
     "metadata": {},
     "output_type": "execute_result"
    }
   ],
   "source": [
    "def generate_X(n):\n",
    "    U = np.random.uniform(0, 365, size = n)\n",
    "    return len(np.unique(np.floor(U))) < n\n",
    "MCSamplesize = 1000\n",
    "X = np.zeros(MCSamplesize)\n",
    "for i in range(MCSamplesize):\n",
    "    X[i] = generate_X(23)\n",
    "    \n",
    "X.mean()"
   ]
  },
  {
   "cell_type": "code",
   "execution_count": null,
   "id": "e11b970f-5f2b-4050-a477-fb3d76b76102",
   "metadata": {},
   "outputs": [],
   "source": []
  },
  {
   "cell_type": "code",
   "execution_count": null,
   "id": "565cc06e-f614-44f5-b5d1-d2b65e0a650a",
   "metadata": {},
   "outputs": [],
   "source": []
  },
  {
   "cell_type": "code",
   "execution_count": null,
   "id": "07bc7429-a674-4a6c-9c2b-9c0707106044",
   "metadata": {},
   "outputs": [],
   "source": []
  }
 ],
 "metadata": {
  "kernelspec": {
   "display_name": "Python 3 (ipykernel)",
   "language": "python",
   "name": "python3"
  },
  "language_info": {
   "codemirror_mode": {
    "name": "ipython",
    "version": 3
   },
   "file_extension": ".py",
   "mimetype": "text/x-python",
   "name": "python",
   "nbconvert_exporter": "python",
   "pygments_lexer": "ipython3",
   "version": "3.11.4"
  }
 },
 "nbformat": 4,
 "nbformat_minor": 5
}
