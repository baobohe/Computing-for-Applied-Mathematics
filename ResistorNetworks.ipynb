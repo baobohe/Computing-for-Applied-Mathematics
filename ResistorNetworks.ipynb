{
 "cells": [
  {
   "cell_type": "markdown",
   "id": "b21e07a4-1f4a-437a-8e94-87962ccb4516",
   "metadata": {
    "tags": []
   },
   "source": [
    "## General comments about notebook assignments\n",
    "\n",
    "When you submit a notebook, you must make sure that \n",
    "\n",
    "- **all cells are executed without any errors** (you will lose points for **any** errors that prevent the entire notebook from being executed) \n",
    "- all lines that say \"do not modify this line\" are **not** modified\n",
    "- all cells that say \"do not modify this cell\" are **not** modified\n",
    "- you execute every cell that says \"Do execute this cell\"\n",
    "\n",
    "You can add your own cells to the notebook, but make sure that\n",
    "- **none of the cells you add yourself** have commented headings saying\n",
    "    - \\# Printout cell ...\n",
    "    - \\# Code cell ...\n",
    "    - \\# Execution cell\n",
    "    - \\# Literal assignment cell ...\n",
    "- you **do not** insert any cells in between a code cell where I tell you to assign a value to a specific variable and a printout cell where the value of that variable is printed out"
   ]
  },
  {
   "cell_type": "markdown",
   "id": "1d9af40f-7000-4a7c-9f84-622acc2b78bf",
   "metadata": {
    "tags": []
   },
   "source": [
    "## Prerequisites for this assignment\n",
    "\n",
    "To complete this assignment you will need to know\n",
    "\n",
    "- how to use matrices and column vectors to represent systems of $n$ linear equations in $n$ unknowns the form:\n",
    "\n",
    "$$ Ax = b $$\n",
    "\n",
    "where $A$ is a given $n \\times n$ matrix, $x$ is an $n \\times 1$ column vector of unknowns, and $b$ is a given $n \\times 1$ column vector.\n",
    "\n",
    "And in Python:\n",
    "\n",
    "- how to construct a matrix as 2-d numpy arrays\n",
    "- how to construct a column vector as an $n\\times 1$ 1-d numpy array\n",
    "\n",
    "This is covered in a Jupyter notebook entiled \"NumpyIntro\" which you are strongly encouraged to review."
   ]
  },
  {
   "cell_type": "markdown",
   "id": "96bd60e6-3bb0-4e9b-aa89-2ee5c5dfb782",
   "metadata": {
    "tags": []
   },
   "source": [
    "**Literal Assignments**\n",
    "\n",
    "Finally, you should understand what a literal assignment is. In assignments throughout the course, you will be asked to provide **literal assignments** to variables with specified names. Failure to understand this concept is guaranteed to lead to lost points. **You have been warned!!!**\n",
    "\n",
    "A **literal assignment** is an assignment of the form:\n",
    "\n",
    "    variable = literal expression\n",
    "\n",
    "in which the right hand side is a literal expression, i.e. an expression that does not involve\n",
    "\n",
    "- functions/methods\n",
    "- operations (like +, -, *, /, ** etc.)\n",
    "- reading from a file or a database\n",
    "- variables\n",
    "\n",
    "So here are some examples of **non-literal** assignments:\n",
    "\n",
    "x = math.sqrt(5)\n",
    "\n",
    "y=x+45\n",
    "\n",
    "z=76.*51/23\n",
    "\n",
    "w=\"hot\"+\"dog\"\n",
    "\n",
    "For our purposes, these are examples of literal assignments\n",
    "\n",
    "w=\"dog\"\n",
    "\n",
    "x=53\n",
    "\n",
    "q=-27\n",
    "\n",
    "y=True\n",
    "\n",
    "z=98.6\n",
    "\n",
    "a=-98.6"
   ]
  },
  {
   "cell_type": "markdown",
   "id": "1d16cc24-6f34-47f5-8ba0-4d72b4bd0620",
   "metadata": {},
   "source": [
    "**Assignment cells**\n",
    "\n",
    "In some cells I will ask you for an assignment instead of a literal assignment. In such a case, the rules for what can \n",
    "appear on the right hand side are looser: functions, variables from previous cells, operations on those variables, etc..\n",
    "\n",
    "When you do this, **it is your responsibility to make sure when the cells in the notebookd are executed in order** the correct assignment is made."
   ]
  },
  {
   "cell_type": "markdown",
   "id": "4b8de9b1-12ac-4af2-9e74-dbc7d00a3b89",
   "metadata": {},
   "source": [
    "**Using numpy to solve a systems of linear equations**\n",
    "\n",
    "If $A$ is an $n \\times n$ numpy array and $b$ is and $n\\times 1$ numpy array, we can solve the system $Ax=b$ as in the following example."
   ]
  },
  {
   "cell_type": "code",
   "execution_count": 1,
   "id": "afca19fd-efa3-4415-8b15-fe7768141372",
   "metadata": {
    "tags": []
   },
   "outputs": [
    {
     "name": "stdout",
     "output_type": "stream",
     "text": [
      "[[1. 2.]\n",
      " [3. 5.]]\n",
      "\n",
      "\n",
      "[[7]\n",
      " [2]]\n",
      "\n",
      "\n",
      "[[-31.]\n",
      " [ 19.]]\n"
     ]
    }
   ],
   "source": [
    "import numpy as np\n",
    "A=np.array([[1.,2.],[3.,5.]])\n",
    "print(A)\n",
    "print(\"\\n\")\n",
    "b=np.array([[7],[2]])\n",
    "print(b)\n",
    "print(\"\\n\")\n",
    "x=np.linalg.solve(A,b)\n",
    "print(x)"
   ]
  },
  {
   "cell_type": "markdown",
   "id": "9856803e-d8a5-47d7-a020-e25cc2f9c056",
   "metadata": {},
   "source": [
    "To check that this is correct we can explicitly compute $Ax.$"
   ]
  },
  {
   "cell_type": "code",
   "execution_count": 2,
   "id": "d0a90ffd-6bbc-4151-bca1-589d04b80496",
   "metadata": {
    "tags": []
   },
   "outputs": [
    {
     "data": {
      "text/plain": [
       "array([[7.],\n",
       "       [2.]])"
      ]
     },
     "execution_count": 2,
     "metadata": {},
     "output_type": "execute_result"
    }
   ],
   "source": [
    "np.matmul(A,x)"
   ]
  },
  {
   "cell_type": "markdown",
   "id": "3412dce8-db5d-4996-a6d1-29866b35de78",
   "metadata": {
    "tags": []
   },
   "source": [
    "## Resistor Networks\n",
    "\n",
    "In this assignment, we introduce numpy and solve some linear algebra problems that arise when analyzing a particular type of electrical circuit, referred to as a *resistor network* using numpy, our go-to package for doing numerical linear algebra calculations.\n",
    "\n",
    "Everything you need to know much about electricity will be introduced in this notebook. Before talking about resistor networks, we need the notion of a *directed graph*. "
   ]
  },
  {
   "attachments": {
    "35b72056-e1e8-4f1f-b4c4-a1919145613a.PNG": {
     "image/png": "[encoded data removed]"
    }
   },
   "cell_type": "markdown",
   "id": "42f74ee8-b5fe-415c-9bae-de9606010f30",
   "metadata": {},
   "source": [
    "**Definition.** A *directed graph* consists of a finite collection $N$ of *nodes* and $E$ of *directed edges*, which are ordered pairs connnecting distinct pairs of vertices. \n",
    "We assume that there is only one edge connecting any pair of nodes, and we do not allow an edge connecting a node to itself.\n",
    "\n",
    "For an edge $E=(i,j)$ connecting node $i$ to node $j$ we refer to the edge as an *outgoing* edge at node $i$ and an *incoming* edge at node $j.$ \n",
    "\n",
    "**Example 1.** Consider the case where $N=\\{ 1,2,3,4\\}$ \n",
    "and $E = \\{ (1,2), (1,3), (2,4), (2,3)\\}.$\n",
    "\n",
    "\n",
    "It is customary to use a figure to describe a directed graph. In the example, such a figure can look like this:\n",
    "\n",
    "![Figure1.PNG](attachment:35b72056-e1e8-4f1f-b4c4-a1919145613a.PNG)\n",
    "\n",
    "**Figure 1.** Depiction of the directed graph example. Here, node 2 has 1 incoming edge and 2 outgoing edges."
   ]
  },
  {
   "attachments": {
    "4f7aaeef-8c4c-4136-84ee-95cac40dfd35.PNG": {
     "image/png": "[encoded data removed]"
    }
   },
   "cell_type": "markdown",
   "id": "9f401cc3-5632-4634-a207-e438b51a04d5",
   "metadata": {},
   "source": [
    "    \n",
    "**Definition.** A *resistor network* is a directed graph in which each edge is assigned a *resistance*, measured in *ohms.*\n",
    "\n",
    "\n",
    "**Example revisited.** In the directed graph example, assume the resistances along the edges are\n",
    "$R_{1,2} = 3$ ohms,\n",
    "$R_{1,3} = 5$ ohms,\n",
    "$R_{2,4} = 1$ ohm, and\n",
    "$R_{2,3} = 2$ ohms.\n",
    "The resulting resistance network is as shown in Figure 2. Note that resistors are usually depicted using a zig-zag line segment. \n",
    "\n",
    "![Figure2.PNG](attachment:4f7aaeef-8c4c-4136-84ee-95cac40dfd35.PNG)\n",
    "\n",
    "**Figure 2.** Depiction of the resistor network.\n",
    "\n",
    "**Definition.** The *current* along a directed edge in a resistor network measured in *amperes* (or *amps* for short) refers to the rate at which electric charge flows along that edge. \n",
    "\n",
    "Note that the edge has a direction and flow can move in any direction. If the flow is in the direction of the edge, we have positive current and if flow is in the opposite direction we have negative current."
   ]
  },
  {
   "attachments": {
    "6c390dd0-11d3-4111-86b7-e971cc8f269a.PNG": {
     "image/png": "[encoded data removed]"
    }
   },
   "cell_type": "markdown",
   "id": "a580128e-28ce-4b3a-8ea5-51d7d85ae7dc",
   "metadata": {},
   "source": [
    "**Definition.** A *battery* is a device that has two terminals (a positive and a negative side) and a voltage value measured in *volts*. When we connect each terminal to a pair of nodes in the network, you can think of the result being that charge is pumped into the network where the positive terminal of the battery is connected and out of the network where the negative terminal is connected.\n",
    "\n",
    "In fact, it is *electrons* that actually flow from the negative terminal to the positive terminal, but \n",
    "since they carry a negative charge, we take the point of view that there is a positive flow in the other direction.\n",
    "\n",
    "**Special Case.** When our resistor network consists of a single resistor whose resistance is $R$ ohms, if we connect a $V$ volt battery to it (see Figure 3) the current $I$ passing through the resistor satisfies Ohm's law:\n",
    "$$\n",
    "I = V/R.\n",
    "$$\n",
    "\n",
    "\n",
    "\n",
    "![Figure3.PNG](attachment:6c390dd0-11d3-4111-86b7-e971cc8f269a.PNG)\n",
    "\n",
    "**Figure 3.** Simple resistor network with a battery connected.\n",
    "\n",
    "\n",
    "**Note.** A resistor can be thought of as a component  with the property that when a voltage at  \n",
    "both ends of the component takes some constant value $V$, \n",
    "then current $I$ passing through the component is also constant. Then the *resistance* of the component is \n",
    "the ratio $V/I.$\n",
    "\n",
    "**Analyzing a Resistor Network.** \n",
    "When we connect a battery with known voltage, to a resistor network with known resistences,  current (possibly zero) flows at a constant rate from the positive to the negative side of the battery. **The current flowing from any node to any other node in the network does not vary over time.**  \n",
    "\n",
    "In particular, the current flowing through every resistor does not vary. \n",
    "However, the amount current can differ from one resistor to another. \n",
    "We want to answer the following questions about our circuit: \n",
    "\n",
    "- **how much current flows through each resistor?**\n",
    "\n",
    "- **how much current flows from the positive to the negative terminal of the battery?**\n",
    "\n",
    "\n",
    "To answer this question, we need two key ideas:\n",
    "\n",
    "- Conservation of current at each node\n",
    "\n",
    "and\n",
    "\n",
    "- Voltage at each node.\n",
    "\n"
   ]
  },
  {
   "attachments": {
    "5edf9ede-612e-4f79-b02e-b785d4f872e4.PNG": {
     "image/png": "[encoded data removed]"
    }
   },
   "cell_type": "markdown",
   "id": "aec9a09a-da15-4293-bef9-bbeb5e2ffec5",
   "metadata": {},
   "source": [
    "**Conservation of Current.** When we connect a battery to a resistor network, the current that flows through the network satisfies a conservation law. At every node, the rate of flow into that node must be balanced by the rate of flow out of that node. (Think of current as behaving like water.)\n",
    "\n",
    "Consider a node with edges $E_1,E_2,E_3,E_4,$ and $E_5$ as in Figure 4. \n",
    "\n",
    "![Figure4.PNG](attachment:5edf9ede-612e-4f79-b02e-b785d4f872e4.PNG)\n",
    "\n",
    "**Figure 4.** Node with 2 incoming edges and 3 outgoing edges.\n",
    "\n",
    "Observe that edges are **directed.** Current that moves in the direction of the edge will get a positive sign, and current moving in the opposite direction will get a negative sign. If we let $I(E)$ denote the current along an edge $E,$ then conservation of current requires that\n",
    "\n",
    "$$\n",
    "I(E_1)+ I(E_2)=I(E_3)+I(E_4)+I(E_5).\n",
    "$$\n",
    "\n",
    "More generally, if conservation of current at a node $n$ that is not connected to a battery satisfies\n",
    "\n",
    "$$\n",
    "\\sum_{\\mbox{E incoming at n}} I(E)= \n",
    "\\sum_{\\mbox{E outgoing at n}} I(E).\n",
    "$$\n",
    "\n",
    "As mentioned above, it is assumed that some current flows from the positive terminal of the battery and the same current flows into the negative terminal. In other words the positive terminal is a *source* of current and the negative terminal is a *sink* of current. \n",
    "By conservation of current, the magnitude $I^*$ of the source current must be the same as the magnitude $I^*$ of the sink current, and we need to modify the conservation equation for a node $n$ connected to the positive side of battery to say that\n",
    "\n",
    "$$\n",
    "I^*+\\sum_{\\mbox{E incoming at n}} I(E)  =\n",
    "\\sum_{\\mbox{E outgoing at n}} I(E).\n",
    "$$\n",
    "\n",
    "and if the node is connected to the negative side of the battery\n",
    "\n",
    "$$\n",
    "\\sum_{\\mbox{E incoming at n}} I(E)  = I^*+\n",
    "\\sum_{\\mbox{E outgoing at n}} I(E)\n",
    "$$"
   ]
  },
  {
   "cell_type": "markdown",
   "id": "5bae1b74-fff0-4f4a-b334-c61cc4e3b911",
   "metadata": {},
   "source": [
    "**Voltages**\n",
    "\n",
    "Another key assumption is that every node $n$ can be assigned a *voltage* $V_n$ with the following rules:\n",
    "\n",
    "a) the voltage at the node connected to the battery's negative terminal is 0\n",
    "\n",
    "b) the voltage at the node connected to the battery's positive terminal is $V,$ the voltage of the battery,\n",
    "\n",
    "c) for every edge in the network i.e. for every resistor with resistance $R$ connecting node $n$ to node $n',$ the current $I$ across the resistor satisfies Ohm's law:\n",
    "\n",
    "$$\n",
    "I = (V_{n}-V_{n'})/R.\n",
    "$$\n",
    "\n",
    "or stated alternatively\n",
    "\n",
    "$$\n",
    "\\Delta V = IR.\n",
    "$$\n",
    "\n",
    "where $\\Delta V = V_{in}-V_{out}$\n",
    "\n",
    "The units for Ohm's law: when voltages are measured in Volts, currents  in Amperes (amp for short), and resistences in Ohms, 1 Volt across a 1 Ohm resistor produces 1 amp of current.\n",
    "\n",
    "You can think of the voltage at a node as *elevation* so that current, like water, flows from higher to lower elevation. "
   ]
  },
  {
   "attachments": {
    "e96108cd-a998-4945-b238-ea8b3613a4d5.PNG": {
     "image/png": "[encoded data removed]"
    }
   },
   "cell_type": "markdown",
   "id": "253981d8-ed70-4e76-85cc-f1d546fa0044",
   "metadata": {},
   "source": [
    "With these considerations in mind, given a battery with known voltage connected to two nodes in a resistor network, we can determine the current through every resistor and the voltage assigned at every node by solving a system of linear equations.\n",
    "\n",
    "**Example. Two resistors in parallel.**\n",
    "\n",
    "Consider the circuit shown in Figure 4, consisting of a battery with known voltage $V$ and a pair of resistors \n",
    "in parallel, along edges we can lable $E_1$ and $E_2$ with known resistences $R_1$ and $R_2$ connecting\n",
    "nodes $n$ and $n'.$ To \n",
    "proceed we need to give directions to our edges determine the currents. We take these to be left to right as indicated with the arrows shown in green. \n",
    "\n",
    "![Figure5.PNG](attachment:e96108cd-a998-4945-b238-ea8b3613a4d5.PNG)\n",
    "\n",
    "**Figure 5.** Two resistors in parallel.\n",
    "\n",
    "In this case, \n",
    "\n",
    "a) tells us that the voltage at node $n'$ is $0$ \n",
    "\n",
    "b) tells us the voltahe at node $n$ is $V.$\n",
    "\n",
    "c) tells us that the current $I_1$ along edge $E_1$ (through resistor $R_1$) satisfies \n",
    "\n",
    "$$\n",
    "I_1 = (V-0)/R_1 = V/R_1,\n",
    "$$\n",
    "\n",
    "and similarly the current $I_2$ along edge $E_2$ (through resistor $R_2$) is given by \n",
    "\n",
    "$$\n",
    "I_2 = V/R_2.\n",
    "$$\n",
    "\n",
    "The total current $I$ from node $n$ to $n'$ is the sum of\n",
    "the two currents\n",
    "\n",
    "$$\n",
    "I = V/R_1 + V/R_2 = V \\left\\{ \\frac{1}{R_1} + \\frac{1}{R_2} \\right\\}\n",
    "$$\n",
    "\n",
    "Observe, by Ohm's law, this is the same we would obtain if we replaced the two resistors by a single resistor with resistence\n",
    "$$\n",
    "R = \\frac{1}{\\frac{1}{R_1} + \\frac{1}{R_2}}.\n",
    "$$\n",
    "This expression is referred to as the *harmonic mean* of\n",
    "$R_1$ and $R_2.$\n",
    "\n",
    "We say that the *effective resistence* of two resistors in parallel is the harmonic mean of their resistences.\n",
    "\n",
    "**Exercise (not to be turned in)** What is the effective resistance of a network with two nodes, $n$ and $n'$ with $k$ resistors in parallel with resistences\n",
    "$R_1,R_2,\\ldots,R_k.$"
   ]
  },
  {
   "attachments": {
    "5118ceea-650f-4f8a-baf0-052a7e2e1e33.PNG": {
     "image/png": "[encoded data removed]"
    },
    "5cb16853-7e25-46ea-a34a-e98774746850.PNG": {
     "image/png": "[encoded data removed]"
    }
   },
   "cell_type": "markdown",
   "id": "4879f55e-d1d8-40cf-b4fe-8558dbc6ed02",
   "metadata": {
    "tags": []
   },
   "source": [
    "**Example. Two resistors in series.** Next consider the circuit in Figure 6 with two  resistors in series?\n",
    "\n",
    "Here we can ask for the voltage at every node and the total current passing from the positive to the negative side of the battery. \n",
    "(Here the current is the same in each resistor by conservation of current.)\n",
    "\n",
    "![Figure6.PNG](attachment:5118ceea-650f-4f8a-baf0-052a7e2e1e33.PNG)\n",
    "\n",
    "**Figure 6.** Two resistors in series.\n",
    "\n",
    "Assuming the voltage of the battery is $V$, we have an unknown current $I$ and an unknown voltage $V'$ at the node where the two resistors are connected.\n",
    "\n",
    "Using our assumptions we can label the voltages at the nodes as in Figure 7.\n",
    "\n",
    "![Figure7.PNG](attachment:5cb16853-7e25-46ea-a34a-e98774746850.PNG)\n",
    "\n",
    "**Figure 7.** Voltages for the 2 resistors in series circuit.\n",
    "\n",
    "We have two unknowns to determine $I$ and $V'.$ They satisfy the following equations:\n",
    "\n",
    "- $I=(V-V')/R_1$\n",
    "- $I=(V'-0)/R_2 = V'/R_2$\n",
    "\n",
    "Equating the two right hand sides and muliplying both sides by $R_1R_2$ we see that\n",
    "\n",
    "$$\n",
    "R_2 (V-V') = R_1 V'\n",
    "$$\n",
    "\n",
    "giving\n",
    "\n",
    "$$\n",
    "V' = \\frac{R_2}{R_1+R_2} V,\n",
    "$$\n",
    "\n",
    "and \n",
    "\n",
    "$$\n",
    "I = V'/R_2 = \\frac{1}{R_1+R_2} V\n",
    "$$\n",
    "\n",
    "So the combination of resistors produces a current that is the same as that of single resistor with resistance $R_1+R_2.$\n",
    "\n",
    "The effective resistance of a series circuit with two resistors is the sum of their resistances.\n"
   ]
  },
  {
   "attachments": {
    "670333bc-e67a-4d83-b2f5-6a5f185c65e8.PNG": {
     "image/png": "[encoded data removed]"
    }
   },
   "cell_type": "markdown",
   "id": "915c5c84-c50f-4a41-b4b1-a9aeb4ae65fe",
   "metadata": {
    "tags": []
   },
   "source": [
    "**More complex networks**\n",
    "\n",
    "Next consider the network shown in Figure 8 with 7 resistors, 6 nodes labeled A,B,C,D,E and F. The directions of the edges are indicated in green.\n",
    "\n",
    "We can define a voltage at each node\n",
    "$V_A,V_B,\\ldots,V_F,$ and a current \n",
    "$I_1,I_2,\\ldots,I_7$ through each resistor.\n",
    "\n",
    "Letting the battery voltage be 1 volt, denoted so we have $V_A=1$ and $V_F=0.$\n",
    "In addition, there is a current $I^*$ entering node A from the battery and leaving node F to the battery.\n",
    "\n",
    "\n",
    "![Figure8.PNG](attachment:670333bc-e67a-4d83-b2f5-6a5f185c65e8.PNG)\n",
    "\n",
    "**Figure 8.** Resistor network to analyze.\n",
    "\n",
    "Assuming resistances are given by $R_i=i$ Ohms for $i=1,2,\\ldots,7$ and the battery voltage is 1, write down \n",
    "\n",
    "- a current conservation equation for every one of the 6 nodes\n",
    "\n",
    "- a $\\Delta V = IR$ equation for every resistor.\n",
    "\n",
    "In Problems 1 and 2, you are asked to construct the $13 \\times 12$ matrix $A$ and the $13 \\times 1$ column vector $b$ as numpy arrays so that these equations can be \n",
    "written in matrix form:\n",
    "\n",
    "$$\n",
    "A x = b\n",
    "$$\n",
    "\n",
    "where $x$ is $12 \\times 1$ column vector of the 12 unknowns using the following ordering:\n",
    "\n",
    "$I^*,I_1,I_2,I_3,I_4,I_5,I_6,I_7,V_B,V_C,V_D,V_E.$\n",
    "\n",
    "and where the rows (equations) in the matrix are ordered using\n",
    "\n",
    "- Ohm's law along resistor $I_1$\n",
    "- Ohm's law along resistor $I_2$\n",
    "- Ohm's law along resistor $I_3$\n",
    "- Ohm's law along resistor $I_4$\n",
    "- Ohm's law along resistor $I_5$\n",
    "- Ohm's law along resistor $I_6$\n",
    "- Ohm's law along resistor $I_7$\n",
    "- Conservation of current at node $A$\n",
    "- Conservation of current at node $B$\n",
    "- Conservation of current at node $C$\n",
    "- Conservation of current at node $D$\n",
    "- Conservation of current at node $E$\n",
    "- Conservation of current at node $F$"
   ]
  },
  {
   "cell_type": "markdown",
   "id": "2ffc932f-f5f8-4d2e-a17e-8ca7e952bd28",
   "metadata": {},
   "source": [
    "**Execute the following cell** so that you can use the numpy library abbreviated as np."
   ]
  },
  {
   "cell_type": "code",
   "execution_count": 3,
   "id": "a7363656-5d2a-45c4-ab4c-b346963655a1",
   "metadata": {
    "tags": []
   },
   "outputs": [],
   "source": [
    "# Execution cell - do not modify this cell\n",
    "# Do execute it\n",
    "import numpy as np"
   ]
  },
  {
   "cell_type": "markdown",
   "id": "6eca2770-37a6-4a41-8271-188468efe71d",
   "metadata": {},
   "source": [
    "**Problem 1 (10 points)**\n",
    "\n",
    "Use the following cell to put your code for creating the $13 \\times 12$ matrix A for Problem 1. **Make sure you assign the matrix to a variable called A**.\n",
    "\n",
    "Your code should be completely self-contained."
   ]
  },
  {
   "cell_type": "code",
   "execution_count": 4,
   "id": "bcc72190-d30f-4361-9587-f2c73e0fd92d",
   "metadata": {
    "tags": []
   },
   "outputs": [],
   "source": [
    "# Code cell for Problem 1 - do not delete or modify this line\n",
    "A = np.array([[0,1,0,0,0,0,0,0,1,0,0,0],[0,0,2,0,0,0,0,0,-1,1,0,0],[0,0,0,3,0,0,0,0,0,0,1,0],[0,0,0,0,4,0,0,0,-1,0,0,1],[0,0,0,0,0,5,0,0,0,-1,0,0],[0,0,0,0,0,0,6,0,0,0,-1,1],[0,0,0,0,0,0,0,7,0,0,0,-1],[-1,1,0,1,0,0,0,0,0,0,0,0],[0,-1,1,0,1,0,0,0,0,0,0,0],[0,0,-1,0,0,1,0,0,0,0,0,0],[0,0,0,-1,0,0,1,0,0,0,0,0],[0,0,0,0,-1,0,-1,1,0,0,0,0],[1,0,0,0,0,-1,0,-1,0,0,0,0]])"
   ]
  },
  {
   "cell_type": "code",
   "execution_count": 5,
   "id": "00409154-c927-4a21-bdfa-2fcf192eb3b8",
   "metadata": {
    "tags": []
   },
   "outputs": [
    {
     "name": "stdout",
     "output_type": "stream",
     "text": [
      "[[ 0  1  0  0  0  0  0  0  1  0  0  0]\n",
      " [ 0  0  2  0  0  0  0  0 -1  1  0  0]\n",
      " [ 0  0  0  3  0  0  0  0  0  0  1  0]\n",
      " [ 0  0  0  0  4  0  0  0 -1  0  0  1]\n",
      " [ 0  0  0  0  0  5  0  0  0 -1  0  0]\n",
      " [ 0  0  0  0  0  0  6  0  0  0 -1  1]\n",
      " [ 0  0  0  0  0  0  0  7  0  0  0 -1]\n",
      " [-1  1  0  1  0  0  0  0  0  0  0  0]\n",
      " [ 0 -1  1  0  1  0  0  0  0  0  0  0]\n",
      " [ 0  0 -1  0  0  1  0  0  0  0  0  0]\n",
      " [ 0  0  0 -1  0  0  1  0  0  0  0  0]\n",
      " [ 0  0  0  0 -1  0 -1  1  0  0  0  0]\n",
      " [ 1  0  0  0  0 -1  0 -1  0  0  0  0]]\n",
      "(13, 12)\n"
     ]
    }
   ],
   "source": [
    "# Printout cell for Problem 1 - do not delete or modify this cell\n",
    "# Do execute this cell\n",
    "print(A)\n",
    "print(A.shape)"
   ]
  },
  {
   "cell_type": "markdown",
   "id": "73464e19-4111-4111-a768-e7d0e9dc759c",
   "metadata": {},
   "source": [
    "**Problem 2 (10 points)**\n",
    "\n",
    "Use the following cell to put your code for creating the (column) matrix $b.$ **Make sure\n",
    "the name you use for matrix is b.**\n",
    "\n",
    "Your code should be completely self-contained."
   ]
  },
  {
   "cell_type": "code",
   "execution_count": 6,
   "id": "8981c302-5eab-4c41-8712-35a8f12abad8",
   "metadata": {
    "tags": []
   },
   "outputs": [],
   "source": [
    "# Code cell for Problem 2 - do not delete or modify this line\n",
    "b = np.array([[1],[0],[1],[0],[0],[0],[0],[0],[0],[0],[0],[0],[0]])"
   ]
  },
  {
   "cell_type": "code",
   "execution_count": 7,
   "id": "c93d32d2-9185-499e-85e6-47e563097c8e",
   "metadata": {
    "tags": []
   },
   "outputs": [
    {
     "name": "stdout",
     "output_type": "stream",
     "text": [
      "[[1]\n",
      " [0]\n",
      " [1]\n",
      " [0]\n",
      " [0]\n",
      " [0]\n",
      " [0]\n",
      " [0]\n",
      " [0]\n",
      " [0]\n",
      " [0]\n",
      " [0]\n",
      " [0]]\n",
      "(13, 1)\n"
     ]
    }
   ],
   "source": [
    "# Printout cell for Problem 2 - do not delete or modify this cell\n",
    "# Do execute this cell\n",
    "print(b)\n",
    "print(b.shape)"
   ]
  },
  {
   "cell_type": "markdown",
   "id": "d7758774-26a4-4d62-8be5-cb129375cc2c",
   "metadata": {},
   "source": [
    "**Solving the system**\n",
    "\n",
    "Maybe you are wondering what happens if $A$ is not a square matrix and we want to solve $Ax=b$ using the np.linalg.solve function. It produces an error (**but don't check in this notebook** because I want you to turn in notebooks that are free of errors).\n",
    "\n",
    "The problem with our system is that there is an equation that is redundant i.e. it's validity is a consequence of the other equations. \n",
    "\n",
    "**Problem 3 (10 points)** Find an equation (row of A) and corresponding row of b that is redundant. \n",
    "\n",
    "Use the following cell to specify a row number of $A$ that can be eliminated. In the following literal assignment cell assign a literal value to the variable called **row_number** in the following cell. Make sure to use 0,1,...,12 numbering of the rows."
   ]
  },
  {
   "cell_type": "code",
   "execution_count": 8,
   "id": "786b6c95-bcfd-403e-ba3e-cb25f8930907",
   "metadata": {
    "tags": []
   },
   "outputs": [],
   "source": [
    "# Literal assignment cell for Problem 3 - do not delete or modify this row\n",
    "row_number = 13"
   ]
  },
  {
   "cell_type": "code",
   "execution_count": 9,
   "id": "b5c6d44e-e29f-4402-81d7-13fce58d7f48",
   "metadata": {
    "tags": []
   },
   "outputs": [
    {
     "name": "stdout",
     "output_type": "stream",
     "text": [
      "13\n"
     ]
    }
   ],
   "source": [
    "# Printout cell for Problem 3 - do not modify this cell\n",
    "# Do execute it.\n",
    "print(row_number)"
   ]
  },
  {
   "cell_type": "markdown",
   "id": "09703e65-e1bc-4db2-a230-0a6ed4ee8747",
   "metadata": {},
   "source": [
    "**Problem 4 (5 points)** Create a new version of A, called Anew that has the row in Problem 3 removed. (There is an easy way to do this using the previously created matrix A).\n",
    "Use the following cell for your code for creating Anew."
   ]
  },
  {
   "cell_type": "code",
   "execution_count": 10,
   "id": "73dbdb39-17ec-4bbc-86fa-ed3d93ee8ceb",
   "metadata": {
    "tags": []
   },
   "outputs": [],
   "source": [
    "# Code cell for Problem 4 - do not modify this line\n",
    "Anew = A[:-1]"
   ]
  },
  {
   "cell_type": "code",
   "execution_count": 11,
   "id": "5f1748ba-6988-41b1-8215-f566d0f5d93c",
   "metadata": {
    "tags": []
   },
   "outputs": [
    {
     "name": "stdout",
     "output_type": "stream",
     "text": [
      "[[ 0  1  0  0  0  0  0  0  1  0  0  0]\n",
      " [ 0  0  2  0  0  0  0  0 -1  1  0  0]\n",
      " [ 0  0  0  3  0  0  0  0  0  0  1  0]\n",
      " [ 0  0  0  0  4  0  0  0 -1  0  0  1]\n",
      " [ 0  0  0  0  0  5  0  0  0 -1  0  0]\n",
      " [ 0  0  0  0  0  0  6  0  0  0 -1  1]\n",
      " [ 0  0  0  0  0  0  0  7  0  0  0 -1]\n",
      " [-1  1  0  1  0  0  0  0  0  0  0  0]\n",
      " [ 0 -1  1  0  1  0  0  0  0  0  0  0]\n",
      " [ 0  0 -1  0  0  1  0  0  0  0  0  0]\n",
      " [ 0  0  0 -1  0  0  1  0  0  0  0  0]\n",
      " [ 0  0  0  0 -1  0 -1  1  0  0  0  0]]\n",
      "(12, 12)\n"
     ]
    }
   ],
   "source": [
    "# Printout cell for Problem 4 - do not modify this cell\n",
    "# Do execute it.\n",
    "print(Anew)\n",
    "print(Anew.shape)"
   ]
  },
  {
   "cell_type": "markdown",
   "id": "136343d7-a116-4705-9850-21dc57c11070",
   "metadata": {},
   "source": [
    "**Problem 5 (5 points)** Create a new version of b, called bnew that has the row in Problem 3 removed. (There is an easy way to do this using the previously created column b).\n",
    "Use the following cell for your code for creating bnew."
   ]
  },
  {
   "cell_type": "code",
   "execution_count": 12,
   "id": "0775cf80-1021-4cf8-b450-9c1d65ee0825",
   "metadata": {
    "tags": []
   },
   "outputs": [],
   "source": [
    "# Code cell for Problem 5 - do not modify this line\n",
    "bnew = b[:-1]"
   ]
  },
  {
   "cell_type": "code",
   "execution_count": 13,
   "id": "74ea3739-1b45-4559-85b6-01045adbd8e0",
   "metadata": {
    "tags": []
   },
   "outputs": [
    {
     "name": "stdout",
     "output_type": "stream",
     "text": [
      "[[1]\n",
      " [0]\n",
      " [1]\n",
      " [0]\n",
      " [0]\n",
      " [0]\n",
      " [0]\n",
      " [0]\n",
      " [0]\n",
      " [0]\n",
      " [0]\n",
      " [0]]\n",
      "(12, 1)\n"
     ]
    }
   ],
   "source": [
    "# Printout cell for Problem 5 - do not modify this cell\n",
    "# Do execute it.\n",
    "print(bnew)\n",
    "print(bnew.shape)"
   ]
  },
  {
   "cell_type": "markdown",
   "id": "39b8dee1-5a03-4f30-a270-8b590e9fd52a",
   "metadata": {},
   "source": [
    "**Problem 6 (5 points)** Find the solution of the modified system of equations with 12 equations and 12 unknowns. Use the following cell to calculate your solution for $x.$\n",
    "**Make sure you assign the solution to the variable called x.**"
   ]
  },
  {
   "cell_type": "code",
   "execution_count": 14,
   "id": "790a6f07-6f1c-46db-a02d-d3545444b8e1",
   "metadata": {
    "tags": []
   },
   "outputs": [],
   "source": [
    "# Code cell for Problem 6 - do not modify this line\n",
    "x=np.linalg.solve(Anew,bnew)"
   ]
  },
  {
   "cell_type": "code",
   "execution_count": 15,
   "id": "51d7a993-f5c3-47a0-9136-dbfc73124195",
   "metadata": {
    "tags": []
   },
   "outputs": [
    {
     "name": "stdout",
     "output_type": "stream",
     "text": [
      "[[0.20921986]\n",
      " [0.16843972]\n",
      " [0.11879433]\n",
      " [0.04078014]\n",
      " [0.04964539]\n",
      " [0.11879433]\n",
      " [0.04078014]\n",
      " [0.09042553]\n",
      " [0.83156028]\n",
      " [0.59397163]\n",
      " [0.87765957]\n",
      " [0.63297872]]\n"
     ]
    }
   ],
   "source": [
    "# Printout cell for Problem 6 - do not modify this cell.\n",
    "# Do execute it.\n",
    "print(x)"
   ]
  },
  {
   "cell_type": "markdown",
   "id": "7e303479-76af-43de-a3b8-3d49a425f00b",
   "metadata": {
    "tags": []
   },
   "source": [
    "**Problem 7 (5 points)** What is the current $I^*$?\n",
    "\n",
    "Use the following assignment cell (not necessarily literal) to assign a value to the variable **Istar**."
   ]
  },
  {
   "cell_type": "code",
   "execution_count": 16,
   "id": "b9f4fe58-9e7c-4682-931a-bc3571991999",
   "metadata": {
    "tags": []
   },
   "outputs": [],
   "source": [
    "# Assignment cell for Problem 7 - do not modify or delete this line\n",
    "Istar = x[0]"
   ]
  },
  {
   "cell_type": "code",
   "execution_count": 17,
   "id": "c6cf0840-1d18-4399-9c4a-165dd53d0138",
   "metadata": {
    "tags": []
   },
   "outputs": [
    {
     "name": "stdout",
     "output_type": "stream",
     "text": [
      "[0.20921986]\n"
     ]
    }
   ],
   "source": [
    "# Printout cell for Problem 7 - do not modify this cell \n",
    "# Do execute it.\n",
    "print(Istar)"
   ]
  },
  {
   "cell_type": "markdown",
   "id": "7eda87b7-e987-4214-b745-129bb250a9ab",
   "metadata": {},
   "source": [
    "**Problem 8 (5 points)** What is the effective resistance of the network?\n",
    "\n",
    "In the following cell assign the correct effecrive resistence to a variable called **effective_resistence**."
   ]
  },
  {
   "cell_type": "code",
   "execution_count": 18,
   "id": "58543212-4846-402a-a458-603cf51fb0be",
   "metadata": {
    "tags": []
   },
   "outputs": [],
   "source": [
    "# Assignment cell for Problem 8 - do not modify or delete this line\n",
    "effective_resistence = 1 / Istar"
   ]
  },
  {
   "cell_type": "code",
   "execution_count": 19,
   "id": "766a247f-0344-4dfc-9b36-7c9aae350752",
   "metadata": {
    "tags": []
   },
   "outputs": [
    {
     "name": "stdout",
     "output_type": "stream",
     "text": [
      "[4.77966102]\n"
     ]
    }
   ],
   "source": [
    "# Printout cell for problem 8 - do not modify this cell\n",
    "# Do execute it\n",
    "print(effective_resistence)"
   ]
  },
  {
   "cell_type": "markdown",
   "id": "6a1ae384-e291-45f1-b2a3-676714bdc23a",
   "metadata": {},
   "source": [
    "## Before turning in this notebook make sure you\n",
    "\n",
    "- run every cell in the notebook and no errors are produced\n",
    "- save the notebook"
   ]
  },
  {
   "cell_type": "markdown",
   "id": "32736f96-e801-4e48-bfbe-461e9ad23055",
   "metadata": {},
   "source": [
    "## "
   ]
  }
 ],
 "metadata": {
  "kernelspec": {
   "display_name": "Python 3 (ipykernel)",
   "language": "python",
   "name": "python3"
  },
  "language_info": {
   "codemirror_mode": {
    "name": "ipython",
    "version": 3
   },
   "file_extension": ".py",
   "mimetype": "text/x-python",
   "name": "python",
   "nbconvert_exporter": "python",
   "pygments_lexer": "ipython3",
   "version": "3.11.4"
  }
 },
 "nbformat": 4,
 "nbformat_minor": 5
}
