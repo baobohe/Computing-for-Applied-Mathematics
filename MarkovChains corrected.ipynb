{
 "cells": [
  {
   "cell_type": "code",
   "execution_count": 1,
   "id": "a93ef245-7859-4387-ad56-ae6f37b35f58",
   "metadata": {
    "tags": []
   },
   "outputs": [],
   "source": [
    "# Do not modify or delete this cell\n",
    "# Do execute it\n",
    "# It will enable the only package you are allowed to use in this assignment.\n",
    "#\n",
    "import numpy as np\n",
    "import math\n",
    "import matplotlib.pyplot as plt"
   ]
  },
  {
   "cell_type": "markdown",
   "id": "3e44506a-0e53-43e9-9595-065f4feb551b",
   "metadata": {},
   "source": [
    "**Some Important Instructions (read carefully)**\n",
    "\n",
    "When the assignment is complete, make sure you\n",
    "\n",
    "- fill in code when asked for\n",
    "- **don't leave any ellipses (...) remaining in your code cells**\n",
    "- run the entire notebook using *\"Restart Kernel and Run All Cells\"*\n",
    "- save the notebook\n",
    "- submit it \n",
    "\n",
    "Make sure that when the entire notebook is run using *\"Restart Kernel and Run All Cells\"*\n",
    "no errors are obtained (including one that might be included by me for illustrative purposes). \n",
    "\n",
    "If you are asked to create a Python object and assign a name to it\n",
    "- use that <u>exact</u> name and not modifications of it\n",
    "\n",
    "If you are presented with a cell with a line with only ellipses i.e. ... that is meant to be a place where you should be putting lines of code. \n",
    "\n",
    "If you are presented with a cell looking like this:\n",
    "\n",
    "    variable name = ...\n",
    "      \n",
    "that is meant to be a place where you should be filling in the right hand side of the Python assignment.\n",
    "\n",
    "**Remove all ellipses when you complete a cell.**\n",
    "\n",
    "If you are asked to provide the right hand side as a **literal** that means that the right hand side should not include variable names, arithmetic operations, or function evaluations. Here are some examples where the right hand side is a literal:\n",
    "\n",
    "    x=5 \n",
    "    y=\"dog\" \n",
    "    z=98.6 \n",
    "\n",
    "and here are examples where the right hand side is <u>not</u> a literal:\n",
    "\n",
    "    x=np.sqrt(5)\n",
    "    y=\"dog\"+\"cat\"\n",
    "    z=98.6/23.4\n",
    "    w=x+z\n",
    "\n",
    "If you are asked to provide the right hand side as a *list of literals*, each of the entries in your list should be a literal.\n",
    "\n",
    "For problems in this assignment (and in future assignments) you will see cells where I expect you to fill in code or text with commented out lines like this:\n",
    "\n",
    "\"# Code cell for Problem N - do not delete or modify this line\"\n",
    "\n",
    "In which case, you should provide code below that line in the cell and make sure to execute it.\n",
    "\n",
    "\"# Print cell for Problem N. Do not modify this cell. Do execute it.\"\n",
    "\n",
    "In this case, you should not modify the cell at all, just execute it (after providing code in the previous cell or cells)."
   ]
  },
  {
   "cell_type": "markdown",
   "id": "1ac2f643-0dea-4ef2-8a1b-e9eac608aacf",
   "metadata": {},
   "source": [
    "**In future assignments**\n",
    "\n",
    "You will find occasional code cells with snippets of code that you should not need to modify. There are commented lines indicating this that appear as something like\n",
    "\n",
    "\"# Do not modify code in this cell\"\n",
    "\n",
    "or \n",
    "\n",
    "\"# Do not modify the following code #\"\n",
    "\n",
    "and at times you will see\n",
    "\n",
    "\"# Do not modify code in the following cell\"\n",
    "\n",
    "Occasionally, you will see a variant of \n",
    "\n",
    "\"# You might want to try modifying parameters in this code#\"\n",
    "\n",
    "where you are encouraged to modify some aspect of the code to further investigate something."
   ]
  },
  {
   "cell_type": "markdown",
   "id": "03c4da84-078d-42ec-8aeb-f0e92e8684c1",
   "metadata": {},
   "source": [
    "**Sampling a pair of dependent random variables**\n",
    "\n",
    "Suppose $X$ and $Y$ have the following joint probability mass function:\n",
    "\n",
    "$$\n",
    "\\begin{array}{c|ccccc|}\n",
    "P(X=x,Y=y) & y=0 & y=1 \\\\ \\hline\n",
    "x=0 & 1/12 & 2/12 \\\\\n",
    "x=1 & 6/12 & 3/12 \\\\\n",
    "\\end{array}\n",
    "$$\n",
    "\n",
    "One way to imagine sampling $(X,Y)$ is to think of sampling a random variable $Z$ taking values $0,1,2,$ and 3\n",
    "according to this probability distribution:\n",
    "\n",
    "$$\n",
    "\\begin{array}{c|ccccc|}\n",
    "z & P(Z=z)  \\\\ \\hline\n",
    "0 & 1/12\\\\\n",
    "1 & 2/12 \\\\\n",
    "2 & 6/12 \\\\\n",
    "3 & 3/12\\\\\n",
    "\\end{array}\n",
    "$$\n",
    "\n",
    "and then depending on what value of $Z$ we get define $(X,Y) = f(Z)$ where $f$ is this function\n",
    "\n",
    "$$\n",
    "\\begin{array}{c|ccccc|}\n",
    "z & f(z)  \\\\ \\hline\n",
    "0 & (0,0)\\\\\n",
    "1 & (0,1) \\\\\n",
    "2 & (1,0) \\\\\n",
    "3 & (1,1)\\\\\n",
    "\\end{array}\n",
    "$$\n",
    "\n",
    "But there is another approach. We can sample $X$ and $Y$ in two steps.\n",
    "\n",
    "**Step 1** Sample $X$ according to its *marginal* distribution. (Gotten by summing rows in the probability mass function).\n",
    "\n",
    "$$\n",
    "\\begin{array}{c|ccccc|}\n",
    "x & P(X=x)  \\\\ \\hline\n",
    "0 & 3/12\\\\\n",
    "1 & 9/12\\\\\n",
    "\\end{array}\n",
    "$$\n",
    "\n",
    "**Step 2** Depending on which value of $X$ we get \n",
    "\n",
    "- if $X=0$ sample $Y$ from the conditional distribution of $Y$ given $X=0$\n",
    "\n",
    "$$\n",
    "\\begin{array}{c|ccccc|}\n",
    "y & P(Y=y|X=0)  \\\\ \\hline\n",
    "0 & 1/3\\\\\n",
    "1 & 2/3\\\\\n",
    "\\end{array}\n",
    "$$\n",
    "\n",
    "- if $X=1$ sample $Y$ from the conditional distribution of $Y$ given $X=1$\n",
    "\n",
    "$$\n",
    "\\begin{array}{c|ccccc|}\n",
    "y & P(Y=y|X=1)  \\\\ \\hline\n",
    "0 & 2/3\\\\\n",
    "1 & 1/3\\\\\n",
    "\\end{array}\n",
    "$$\n",
    "\n",
    "where the conditional distributions are obtained by renormalizing a row by dividing it by its sum.\n",
    "\n"
   ]
  },
  {
   "cell_type": "markdown",
   "id": "80a6c94b-e574-4e05-a834-1a46ddbd6e75",
   "metadata": {},
   "source": [
    "More generally, given two random variables $X$ and $Y$ each taking a finite number of\n",
    "possible values, we can represent that distribution using a table:\n",
    "$$\n",
    "\\begin{array}{c|ccccc|}\n",
    "P(X=x_i,Y=y_j) & y_0 & y_2 & \\cdots & y_{n-1}\\\\ \\hline\n",
    "x_0 & p_{x_0,y_0} & p_{x_0,y_1} & \\cdots & p_{x_0,y_{n-1}} \\\\\n",
    "x_1 & p_{x_1,y_0} & p_{x_1,y_1} & \\cdots & p_{x_1,y_{n-1}} \\\\\n",
    "\\vdots & \\vdots & \\vdots & \\vdots & \\vdots \\\\\n",
    "x_{m-1} & p_{x_{m-1},y_0 }& p_{x_{m-1},y_1} & \\cdots & p_{x_{m-1},y_{n-1}} \\\\\n",
    "\\end{array}\n",
    "$$\n",
    "\n",
    "We can sample $(X,Y)$ in two steps. \n",
    "\n",
    "**Step 1.** Sample $X$ according to its marginal distribution, which is obtained by computing\n",
    "\n",
    " the row sums of the probabilities in the table. \n",
    "\n",
    "**Step 2.** Sample $Y$ according to the conditional distribution of $Y$ given the $X$ that was just obtained. This distribution is obtained by dividing the row corresponding to the $X$ obtained by its row sum."
   ]
  },
  {
   "cell_type": "markdown",
   "id": "8959da76-49e3-4115-bda0-b94f5e328d6c",
   "metadata": {},
   "source": [
    "**Sampling multiple dependent random variables - general considerations**\n",
    "\n",
    "What if we have many dependent random variables? \n",
    "What was just described for two random variables generalizes to many random variables.\n",
    "\n",
    "Given a sequence of *dependent* random variables $X_0,X_1,X_2,$ $\\ldots,$ $X_{n-1}$ whose joint distribution is known, if we want to sample these random variable from that joint distribution, we can, in principle, carry out the following sequence of steps\n",
    "\n",
    "* sample $X_0$ from its marginal distribution,\n",
    "\n",
    "* sample $X_1$ from the conditional distribution of $X_1$ given $X_0$ takes the value obtained in step 0\n",
    "\n",
    "* sample $X_2$ from the conditional distribution of $X_2$ given $X_0$ and $X_1$ take the values obtained in the previous steps\n",
    "\n",
    "* sample $X_3$ from the conditional distribution of $X_3$ given $X_0, X_1$ and $X_2$ take the values obtained in the previous steps,\n",
    "\n",
    "and so on ... . \n",
    "\n",
    "Observe that that in order to carry out this program we would need to be able to get our hands on each conditional distribution of $X_k$ given $X_0,X_1,\\ldots,X_{k-1}$ which can become an increasingly complex problem.\n",
    "\n",
    "**A Simplifying Assumption**\n",
    "\n",
    "Suppose it is the case that for each $k,$ the conditional distribution of $X_k$ given $X_0,X_1,\\ldots,X_{k-1}$ only depends on $X_{k-1}.$ In other words, give the history of what we have seen thus far, to determine the conditional distribution of the next random variable **we only need to know the value of the most recent variable we've seen.** This assumption is referred to as the *Markov assumption*, and assuming we can make this assumption, life becomes far easier. (Of course, in applications, its use can lead to misleading results if this powerful model assumption fails to hold and you pretend it does.) "
   ]
  },
  {
   "cell_type": "markdown",
   "id": "b4c2b2e1-edbd-40ae-ac87-72f0cf9cd9f3",
   "metadata": {},
   "source": [
    "**Markov chains:**\n",
    "\n",
    "Markov chains are special sequences of random variables, used to model systems that move around from state to state according to a very simple rule. Loosely speaking, once the system is in some state, it moves randomly to another state (or stays in its current state) with probabilities that only depend on the current state (how we got to this state has no bearing on the probabilities for the next move).\n",
    "\n",
    "Formally, a Markov chain with state space $S=\\{0,1,...,K-1\\}$ is a sequence of random variables $X_0,X_1,X_2,\\ldots,X_{n-1},\\ldots$ with the following properties:\n",
    "\n",
    "(a) each $X_{t}$ takes a value in $S$ and\n",
    "\n",
    "(b) the distribution of $X_{t+1}$ given $X_0,\\ldots,X_t$ only depends on the value of $X_t$ for every $t$ i.e.\n",
    "\n",
    "$$\n",
    "P[X_{t+1}=j \\vert X_0=i_0,X_1=i_1,\\ldots,X_t=i_t] = \n",
    "P[X_{t+1}=j \\vert X_t=i_t].\n",
    "$$\n",
    "\n",
    "As a consequence of the above statements, we can introduce a $K \\times K$ matrix $Q^{(t)},$ referred to as the  *transition matrix* for the Markov chain **at time $t.$**\n",
    "The $i,j$ entry in this matrix tell us the conditional probability of $X_{t+1}=j$ (moving to state $j$) given that $X_t = i.$ \n",
    "\n",
    "We call the Markov chain *stationary* if the transition matrix is the same for all $t,$ so there is only one transition matrix which we denote by $Q.$ This single matrix can be thought of as giving the *law of motion* of our system under investigation.\n",
    "\n",
    "Symbolically, if $Q = (q_{i,j})$ so that $q_{i,j}$ denotes the entry in row $i$ and column $j$ of $Q$ and we have\n",
    "\n",
    "$$\n",
    "P[X_{t+1}=j \\vert X_t = i] = q_{i,j}\n",
    "$$\n",
    "\n",
    "This is a lot to take in, and it is best to illustrate with some examples."
   ]
  },
  {
   "cell_type": "markdown",
   "id": "00071a5f-116f-48c9-84fe-6b46a1943573",
   "metadata": {},
   "source": [
    "**Example 1. The IID case**\n",
    "\n",
    "For example, if we flip a fair coin repeatedly and can assume that the flips are independent. Let the state 0 refer to tails, and 1 refer to heads and we get this transition matrix\n",
    "$$\n",
    "Q = \\left[\n",
    "\\begin{array}{cc}\n",
    "\\frac{1}{2} &  \\frac{1}{2} \\\\\n",
    "\\frac{1}{2} &  \\frac{1}{2} \\\\\n",
    "\\end{array}\n",
    "\\right]\n",
    "$$\n",
    "\n",
    "Instead, if the coin is biased so that heads occurs 2/3 of the time but the flips are still independent we get this transition matrix\n",
    "\n",
    "$$\n",
    "Q = \\left[\n",
    "\\begin{array}{cc}\n",
    "\\frac{1}{3} &  \\frac{2}{3} \\\\\n",
    "\\frac{1}{3} &  \\frac{2}{3} \\\\\n",
    "\\end{array}\n",
    "\\right]\n",
    "$$\n",
    "\n",
    "More generally, if $X_0,X_1,\\ldots,$ are **iid random variables** taking values in $S = \\{0,\\ldots,K-1\\}$ with \n",
    "$$\n",
    "P[X_i = j] = p_j,~\\mbox{ for } j=0,\\ldots,K-1,\n",
    "$$\n",
    "then this defines a Markov chain whose transition matrix is the same in every row. \n",
    "$$\n",
    "Q = \\left[\n",
    "\\begin{array}{ccccc}\n",
    "p_0 & p_1 & \\cdots & p_{K-2} & p_{K-1} \\\\\n",
    "p_0 & p_1 & \\cdots & p_{K-2} & p_{K-1} \\\\\n",
    "\\vdots & \\vdots & \\vdots & \\vdots & \\vdots \\\\\n",
    "p_0 & p_1 & \\cdots & p_{K-2} & p_{K-1} \\\\\n",
    "p_0 & p_1 & \\cdots & p_{K-2} & p_{K-1} \\\\\n",
    "\\end{array}\n",
    "\\right]\n",
    "$$\n",
    "\n",
    "The more interesting cases of Markov chains are ones for which the random variables involved are *dependent*."
   ]
  },
  {
   "cell_type": "markdown",
   "id": "9670df8a-0d5a-4872-9b42-bcfb4ca63ca6",
   "metadata": {},
   "source": [
    "**Example 2: Controlling the House**\n",
    "\n",
    "Every 2 years, elections in the U.S. are held and it is determined which of the two parties (R, D) controls the house of representatives. \n",
    "\n",
    "Think of the state space as $\\{ 0,1\\}$ where $0$ refers to D and $1$ refers to R.\n",
    "\n",
    "- Given that the D party currently controls congress the chance it holds congress the next time around is 30%.\n",
    "\n",
    "- Given that the R party currently controls congress, the chance it holds congress is 40%.\n",
    "\n",
    "The transtion matrix then looks like this\n",
    "\n",
    "$$\n",
    "Q =\n",
    "\\left[\n",
    "\\begin{array}{cc}\n",
    ".3 & .7\\\\\n",
    ".6 & .4 \\\\\n",
    "\\end{array}\n",
    "\\right]\n",
    "$$\n",
    "\n",
    "It helps to keep in mind that rows refer to the current state and columns to the next state \n",
    "\n",
    "$$\n",
    "\\begin{array}{ccc}\n",
    "& & next state \\\\\n",
    "& & D~~~R \\\\\n",
    "current state &\n",
    "\\begin{array}{c}\n",
    "D\\\\\n",
    "R\n",
    "\\end{array}\n",
    "&  \n",
    "\\left[\n",
    "\\begin{array}{cc}\n",
    ".3 & .7\\\\\n",
    ".6 & .4 \\\\\n",
    "\\end{array}\n",
    "\\right]\n",
    "\\end{array}\n",
    "$$\n",
    "\n",
    "so, for example, if the current state is D, the chance of being in state D in the next time step is 30%.\n"
   ]
  },
  {
   "cell_type": "markdown",
   "id": "e0eba42a-1ecd-488b-8bd0-2841b5a349ea",
   "metadata": {},
   "source": [
    "**Example 3. The Gamophobe**\n",
    "\n",
    "Gamophobia refers to fear of commitment in relationships. A certain unnamed individual (person X) is regularly dating three different potential partners. These partners are very fond of person X (and are infinitely patient!), so whenever asked out on a date, they always say yes. \n",
    "\n",
    "Let's refer to these potential partners as 0, 1, and 2. Every time person X \n",
    "\n",
    "- goes on a date with person 0, they next \n",
    "    - date person 0 with probability $1/6$\n",
    "    - date person 1 with probability $2/6$ \n",
    "    - date person 2 with probability $3/6$\n",
    "- goes on a date with person 1, they next \n",
    "    - date person 0 with probability $1/2$\n",
    "    - date person 1 with probability $0$ \n",
    "    - date person 2 with probability $1/2$\n",
    "- goes on a date with person 2, they next \n",
    "    - date person 0 with probability $1/4$\n",
    "    - date person 1 with probability $1/4$ \n",
    "    - date person 2 with probability $1/2$\n",
    "\n",
    "This person's sequence of dates then forms a Markov chain with transition matrix\n",
    "\n",
    "$$\n",
    "Q = \\left[\n",
    "\\begin{array}{ccc}\n",
    "1/6 &  2/6 & 3/6 \\\\\n",
    "1/2 &  0 & 1/2  \\\\\n",
    "1/4 & 1/4 & 1/2 \\\\\n",
    "\\end{array}\n",
    "\\right]\n",
    "$$\n",
    "\n",
    "Here, we see that conditioning on $X_t$ the distribution of $X_{t+1}$ \n",
    "differs depending on the value of $X_t$ i.e. the random variables $X_t$ and $X_{t+1}$ are *dependent.* "
   ]
  },
  {
   "cell_type": "markdown",
   "id": "09979363-be23-4632-a021-e7e2405305c7",
   "metadata": {},
   "source": [
    "**Example 4: Random Walk with Reflecting Boundary - version 1**\n",
    "\n",
    "In the typical *symmetric random walk* on the integers, starting in position $i,$ in each step we move either to the left or to the right by 1 unit each with probability 1/2.\n",
    "\n",
    "If we take our state space to be the finite set $\\{0,1,\\ldots,K-1\\}$ with $K\\geq 4$ then \n",
    "\n",
    "- if our starting position is in $\\{ 1,2,\\ldots,K-2\\}$ we move one step to the left or right, each with probability 1/2.\n",
    "- if our starting position is 0 we can't move to the left so we always move to state 1, and \n",
    "- if our starting position is $K-1$ we can't move to the right, so we always move to state $K-2.$\n",
    "\n",
    "If $K=5$ our transition matrix looks like this\n",
    "\n",
    "$$\n",
    "\\begin{array}{cc}\n",
    " & 0~~~~~~1~~~~~~2~~~~~3~~~~~~4 \\\\\n",
    "\\begin{array}{c}\n",
    "0\\\\\n",
    "1\\\\\n",
    "2\\\\\n",
    "3\\\\\n",
    "4\\\\\n",
    "\\end{array}\n",
    "& \\left[\n",
    "\\begin{array}{cccccc}\n",
    "0 & 1 & 0 & 0 & 0\\\\\n",
    "\\frac{1}{2} & 0 & \\frac{1}{2} & 0 & 0\\\\\n",
    "0 & \\frac{1}{2} & 0 & \\frac{1}{2} & 0 \\\\\n",
    "0 & 0 & \\frac{1}{2} & 0 & \\frac{1}{2}\\\\\n",
    "0 & 0 & 0 & 1 & 0\\\\\n",
    "\\end{array}\n",
    "\\right]\n",
    "\\end{array}\n",
    "$$\n",
    "\n",
    "\n",
    "\n",
    "\n",
    "for example, if we are currently in state 0 we move to state 1 in the next time step with probability 1. If we are in state 1, we move to either state 0 or state 2 each with probability $\\frac{1}{2}.$"
   ]
  },
  {
   "cell_type": "markdown",
   "id": "4aae9ea0-5c0f-498e-9f60-9e1e1fe45a98",
   "metadata": {},
   "source": [
    "**Example 5: Random Walk with Reflecting Boundary - version 2**\n",
    "\n",
    "Another variation on the above example is one where, when we are in state 0 we either stay there, or move to state 1 each with probability $\\frac{1}{2}$, and similarly, if we are in state $K-1$ we either stay there or we move to state $K-2$ again with equal probability.\n",
    "\n",
    "For example, if $K=5$ our transition matrix looks like this\n",
    "\n",
    "$$\n",
    "\\begin{array}{cc}\n",
    " & 0~~~~~~1~~~~~~2~~~~~3~~~~~~4 \\\\\n",
    "\\begin{array}{c}\n",
    "0\\\\\n",
    "1\\\\\n",
    "2\\\\\n",
    "3\\\\\n",
    "4\\\\\n",
    "\\end{array}\n",
    "& \\left[\n",
    "\\begin{array}{cccccc}\n",
    "\\frac{1}{2} & \\frac{1}{2} & 0 & 0 & 0\\\\\n",
    "\\frac{1}{2} & 0 & \\frac{1}{2} & 0 & 0\\\\\n",
    "0 & \\frac{1}{2} & 0 & \\frac{1}{2} & 0 \\\\\n",
    "0 & 0 & \\frac{1}{2} & 0 & \\frac{1}{2}\\\\\n",
    "0 & 0 & 0 & \\frac{1}{2} & \\frac{1}{2}\\\\\n",
    "\\end{array}\n",
    "\\right]\n",
    "\\end{array}\n",
    "$$\n"
   ]
  },
  {
   "cell_type": "markdown",
   "id": "61f9261a-f5d2-4b5a-b9f0-36ef80692c0b",
   "metadata": {},
   "source": [
    "**Transition Matrices are Stochastic Matrices**\n",
    "\n",
    "A *stochastic matrix* is a matrix all of whose entries are nonnegative and whose rows sum to 1. Since a row of a transition matrix gives a conditional probability distribution, that row has nonnegative entries summing to 1, so a transition matrix is always a stochastic matrix.\n",
    "\n",
    "There is also the notion of a *doubly stochastic* matrix, whose entries are all nonnegative and whose rows *and* columns all sum to 1. A transition matrix need not be doubly stochastic as demonstrated in the Political Party in Control example."
   ]
  },
  {
   "cell_type": "markdown",
   "id": "5a0c9f12-e43a-40bd-a941-fc98476af76e",
   "metadata": {},
   "source": [
    "**One-Step Distributions**\n",
    "\n",
    "Suppose at time $t$ we know the probability distribution of $X_t,$ say we define\n",
    "$$\n",
    "\\pi_i = P[X_t = i],~\\mbox{ for}  ~i=0,1,\\ldots,K-1.\n",
    "$$\n",
    "\n",
    "What is the probability distribution of $X_{t+1}$? \n",
    "In other words, if we define \n",
    "\n",
    "$$\n",
    "\\tilde{\\pi}_j := P[X_{t+1}=j],~ \\mbox{ for } j=0,1,\\ldots,K-1\n",
    "$$\n",
    "\n",
    "how can we calculate these values?\n",
    "\n",
    "We can answer using the law of total probability and the definition of conditional probability to write this as\n",
    "\n",
    "$$\n",
    "\\tilde{\\pi}_j = P[X_{t+1}=j] = \\sum_{i=0}^{K-1} P[X_{t+1}=j, X_{t}=i]\n",
    "$$\n",
    "$$\n",
    "= \\sum_{i=0}^{K-1} P[X_{t+1}=j \\vert X_{t}=i] P[X_t = i]\n",
    "$$\n",
    "$$\n",
    "= \\sum_{i=0}^{K-1} \\pi_i q_{ij}.\n",
    "$$\n",
    "\n",
    "If this reminds you of multiplication of a matrix and a vector, your intuition is correct. Let's define row vectors\n",
    "\n",
    "$$\n",
    "\\pi = [ \\pi_0,\\ldots,\\pi_{K-1}]\n",
    "$$\n",
    "\n",
    "and\n",
    "\n",
    "$$\n",
    "\\tilde{\\pi} = [ \\tilde{\\pi_0},\\ldots,\\tilde{\\pi}_{K-1}]\n",
    "$$\n",
    "\n",
    "then the above equation says that\n",
    "\n",
    "$$\n",
    "\\tilde{\\pi} = \\pi Q.\n",
    "$$\n"
   ]
  },
  {
   "cell_type": "markdown",
   "id": "db830680-3b7d-4dae-9205-e215d5097f55",
   "metadata": {},
   "source": [
    "**Problem 1 (25 points)** \n",
    "\n",
    "Consider the Markov chain on the discrete circle, with some **odd** positive integer value of $N \\geq 3$ and assume that, given at time $t$ if the chain is in state $i,$ at time $t+1$ the chain is in state\n",
    "\n",
    "$$\n",
    "\\left\\{ \\begin{array}{ll}\n",
    "i+1 & \\mbox{ with probability } \n",
    "\\frac{1}{2} A_t \\left(1-\\frac{4\\phi_N(i)}{(N-1)^2}\\right) \\\\\n",
    "i-1 & \\mbox{ with probability } \n",
    "\\frac{1}{4}A_t \\left(1-\\frac{4\\phi_N(i)}{(N-1)^2}\\right) _N\\\\\n",
    "i & \\mbox{ with probability } 1 - \\frac{3}{4}A_t \\left(1-\\frac{4\\phi_N(i)}{(N-1)^2}\\right) \\\\\n",
    "\\end{array}\n",
    "\\right.\n",
    "$$\n",
    "\n",
    "where $\\phi_N(i)$ denotes distance, in terms of states, from $i$ to 0 i.e.\n",
    "\n",
    "$$\n",
    "\\phi_N(i) = \\left\\{ \\begin{array}{ll}\n",
    "i & \\mbox{ if } 0 \\leq i \\leq (N-1)/2\\\\ \n",
    "N-i & \\mbox{ if } (N+1)/2 \\leq i \\leq N-1\\\\\n",
    "\\end{array}\n",
    "\\right.\n",
    "$$\n",
    "\n",
    "and where \n",
    "\n",
    "$$\n",
    "A_t = \\frac{1+\\log(t+2)}{2+\\log(t+2)}.\n",
    "$$\n",
    "\n",
    "In the following code cell, write a **completely self-contained** function called **transition_matrix1** that takes as input \n",
    "\n",
    "- a value of $t$ (a nonnegative integer) \n",
    "- a value of $N$ (an odd integer $\\geq 3$)\n",
    "\n",
    "and outputs\n",
    "\n",
    "- the transition matrix $Q^{(t)}$ for the Markov chain at time $t$ (as a $N \\times N$ numpy 2d array) so that the $i,j$ entry is\n",
    "\n",
    "$$\n",
    "P[X_{t+1}=j \\vert X_t = i] \n",
    "$$\n",
    "\n",
    "for $i,j=0,\\ldots,N-1.$\n",
    "\n",
    "Here, **completely self-contained means that any user-defined auxilliary functions or variables appearing that are not function arguments in your function should be defined in the body of the code**. This does not include numpy functions and constants. You can use those in the body of your code if you need them."
   ]
  },
  {
   "cell_type": "code",
   "execution_count": 2,
   "id": "59792c8e-beb7-4533-b307-6c6eced44579",
   "metadata": {
    "tags": []
   },
   "outputs": [],
   "source": [
    "# Code cell for Problem 1 - do not delete or modify this line\n",
    "def transition_matrix1(N, t):\n",
    "    def phi(i):\n",
    "        if 0 <= i <= (N - 1) / 2:\n",
    "            return i\n",
    "        elif (N + 1) / 2 <= i <= N - 1:\n",
    "            return N - i\n",
    "    def A(t):\n",
    "        return (1 + np.log(t + 2)) / (2 + np.log(t + 2))\n",
    "    Q = np.zeros((N, N))\n",
    "    for i in range(N):\n",
    "        piplus1 = 0.5 * A(t) * (1 - 4 * phi(i) / ((N - 1) ** 2))\n",
    "        piminus1 = 0.25 * A(t) * (1 - 4 * phi(i) / ((N - 1) ** 2))\n",
    "        pi = 1 - 0.75 * A(t) * (1 - 4 * phi(i) / ((N - 1) ** 2))\n",
    "        Q[i][(i + 1) % N] = piplus1\n",
    "        Q[i][i] = pi\n",
    "        Q[i][(i - 1) % N] = piminus1\n",
    "    return Q"
   ]
  },
  {
   "cell_type": "code",
   "execution_count": 3,
   "id": "7f334b0e-2b21-437a-9ef6-a0528d4b940b",
   "metadata": {
    "tags": []
   },
   "outputs": [
    {
     "name": "stdout",
     "output_type": "stream",
     "text": [
      "[[0.492 0.339 0.    0.    0.169]\n",
      " [0.127 0.619 0.254 0.    0.   ]\n",
      " [0.    0.085 0.746 0.169 0.   ]\n",
      " [0.    0.    0.085 0.746 0.169]\n",
      " [0.254 0.    0.    0.127 0.619]]\n"
     ]
    }
   ],
   "source": [
    "# Print cell1  for Problem 1 - do not delete or modify this line\n",
    "# Do execute this cell.\n",
    "print(transition_matrix1(5,1).round(3))"
   ]
  },
  {
   "cell_type": "code",
   "execution_count": 4,
   "id": "f7e38cfd-18ba-49ef-914f-aceeb12227dc",
   "metadata": {
    "tags": []
   },
   "outputs": [
    {
     "name": "stdout",
     "output_type": "stream",
     "text": [
      "[[0.471 0.352 0.    0.    0.176]\n",
      " [0.132 0.604 0.264 0.    0.   ]\n",
      " [0.    0.088 0.736 0.176 0.   ]\n",
      " [0.    0.    0.088 0.736 0.176]\n",
      " [0.264 0.    0.    0.132 0.604]]\n"
     ]
    }
   ],
   "source": [
    "# Print cell2  for Problem 1 - do not delete or modify this line\n",
    "# Do execute this cell.\n",
    "print(transition_matrix1(5,2).round(3))"
   ]
  },
  {
   "cell_type": "code",
   "execution_count": 5,
   "id": "b1d816c1-7d33-401c-81cf-369a4aeab5ea",
   "metadata": {
    "tags": []
   },
   "outputs": [
    {
     "name": "stdout",
     "output_type": "stream",
     "text": [
      "[[0.458 0.361 0.    0.    0.181]\n",
      " [0.136 0.593 0.271 0.    0.   ]\n",
      " [0.    0.09  0.729 0.181 0.   ]\n",
      " [0.    0.    0.09  0.729 0.181]\n",
      " [0.271 0.    0.    0.136 0.593]]\n"
     ]
    }
   ],
   "source": [
    "# Print cell3  for Problem 1 - do not delete or modify this line\n",
    "# Do execute this cell.\n",
    "print(transition_matrix1(5,3).round(3))"
   ]
  },
  {
   "cell_type": "code",
   "execution_count": 6,
   "id": "df2f2cff-ac0c-4d2c-b013-46ad7a59b8fe",
   "metadata": {
    "tags": []
   },
   "outputs": [
    {
     "name": "stdout",
     "output_type": "stream",
     "text": [
      "[[0.334 0.444 0.    0.    0.222]\n",
      " [0.166 0.501 0.333 0.    0.   ]\n",
      " [0.    0.111 0.667 0.222 0.   ]\n",
      " [0.    0.    0.111 0.667 0.222]\n",
      " [0.333 0.    0.    0.166 0.501]]\n"
     ]
    }
   ],
   "source": [
    "# Print cell3  for Problem 1 - do not delete or modify this line\n",
    "# Do execute this cell.\n",
    "print(transition_matrix1(5,1000).round(3))"
   ]
  },
  {
   "cell_type": "markdown",
   "id": "7e3b10ba-970e-4f72-921b-8e98eca9ddbc",
   "metadata": {},
   "source": [
    "**Problem 2 (5 points) **\n",
    "\n",
    "For the Markov chain defined in Problem 1, suppose the chain is in state 0 at time 0.\n",
    "Find the probability distribution of the position at time $t=10.$\n",
    "In the code cell below, you should assign your answer to a 1-d array called **position_distribution2**.\n",
    "\n",
    "Use the following code cell to compute the answer."
   ]
  },
  {
   "cell_type": "code",
   "execution_count": 7,
   "id": "85724220-24b8-4615-977a-afac6e758db1",
   "metadata": {
    "tags": []
   },
   "outputs": [],
   "source": [
    "# Code cell for Problem 2 - do not delete or modify this line\n",
    "#Assumed N = 5\n",
    "def positiondistribution(N, t):\n",
    "    pi = np.zeros(N)\n",
    "    pi[0] = 1\n",
    "    for i in range(t):\n",
    "        Q = transition_matrix1(N, i)\n",
    "        pi = pi.dot(Q)\n",
    "    return pi\n",
    "position_distribution2 = positiondistribution(5, 10)"
   ]
  },
  {
   "cell_type": "code",
   "execution_count": 8,
   "id": "ddc7c1d2-072e-479f-b83f-7eb77d6eac04",
   "metadata": {
    "tags": []
   },
   "outputs": [
    {
     "name": "stdout",
     "output_type": "stream",
     "text": [
      "[0.129 0.195 0.286 0.237 0.154]\n"
     ]
    }
   ],
   "source": [
    "# Print cell for Problem 2 - Do not modify this cell. Do execute this cell.\n",
    "print(position_distribution2.round(3))"
   ]
  },
  {
   "cell_type": "markdown",
   "id": "e6a5783a-15d5-4eb2-8b00-b3cd5c236654",
   "metadata": {},
   "source": [
    "**Problem 3 (5 points)**\n",
    "\n",
    "Assume that for the Markov chain in Problem 1 all states are equally likely for the position at time 0.\n",
    "Find the probability distribution of the position at time $t=10.$\n",
    "In the code cell below, you should assign your answer to a **1-d array** called **position_distribution3**.\n",
    "\n",
    "Use the following code cell to compute the answer."
   ]
  },
  {
   "cell_type": "code",
   "execution_count": 9,
   "id": "883011af-20e4-47ef-ae6b-043a3ef1bd1c",
   "metadata": {
    "tags": []
   },
   "outputs": [],
   "source": [
    "# Code cell for Problem 3 - do not delete or modify this line\n",
    "def positiondistribution(N, t):\n",
    "    pi = np.full(N, 1/N)\n",
    "    for i in range(t):\n",
    "        Q = transition_matrix1(N, i)\n",
    "        pi = pi.dot(Q)\n",
    "    return pi\n",
    "position_distribution3 = positiondistribution(5, 10)"
   ]
  },
  {
   "cell_type": "code",
   "execution_count": 10,
   "id": "5749b00b-8d6b-4eca-8b76-77546983d86d",
   "metadata": {
    "tags": []
   },
   "outputs": [
    {
     "name": "stdout",
     "output_type": "stream",
     "text": [
      "[0.13  0.178 0.265 0.257 0.171]\n"
     ]
    }
   ],
   "source": [
    "# Print cell for Problem 3 - Do not modify this cell. Do execute this cell.\n",
    "print(position_distribution3.round(3))"
   ]
  },
  {
   "cell_type": "markdown",
   "id": "28cf79ca-4ffd-4820-a863-25e1b56166a3",
   "metadata": {},
   "source": [
    "**Problem 4 (5 points)**\n",
    "\n",
    "Write a function called **generate_sample_path** that takes as inputs\n",
    "\n",
    "- $N$ the positive integer definng a discretized circle\n",
    "- $I$ a starting position for a Markov chain defined in Problem 1\n",
    "- $T$ a positive integer\n",
    "\n",
    "and gives as output\n",
    "\n",
    "- a list giving a simulated sequence of positions $X_0,X_1,\\ldots,X_T$ for the Markov chain in Problem 1 starting in position $I$ at time 0. Your positions should be **integers**.\n",
    "\n",
    "You may use numpy functions in your code. You may also use the function **transition_matrix1** you defined in Problem 1.\n",
    "\n",
    "Use the following code cell for your code. "
   ]
  },
  {
   "cell_type": "code",
   "execution_count": 11,
   "id": "1ba81e1f-288e-439c-9146-872a0143498e",
   "metadata": {
    "tags": []
   },
   "outputs": [],
   "source": [
    "# Code cell for Problem 4 - do not modify or delete this line\n",
    "def generate_sample_path(N,I,T):\n",
    "    sample = [I]\n",
    "    for i in range(T):\n",
    "        Q = transition_matrix1(N,i)\n",
    "        next = np.random.choice(range(N), p = Q[sample[-1]])\n",
    "        sample.append(next)\n",
    "    return sample"
   ]
  },
  {
   "cell_type": "code",
   "execution_count": 12,
   "id": "48141477-7c51-41bd-b150-df4fd1a33a1c",
   "metadata": {
    "tags": []
   },
   "outputs": [
    {
     "name": "stdout",
     "output_type": "stream",
     "text": [
      "[0, 0, 0, 1, 1, 2, 1, 1, 1, 2, 2, 2, 3, 3, 3, 4, 4, 4, 4, 4, 4, 4, 4, 4, 3, 3, 3, 3, 3, 2, 2, 3, 3, 2, 2, 2, 2, 2, 3, 3, 4, 4, 0, 1, 1, 0, 1, 2, 2, 2, 2, 2, 2, 3, 3, 4, 3, 3, 3, 2, 2, 2, 1, 1, 2, 2, 2, 3, 3, 3, 3, 3, 4, 0, 1, 1, 1, 1, 2, 2, 2, 1, 0, 1, 1, 2, 2, 1, 0, 0, 1, 0, 0, 0, 0, 4, 4, 4, 4, 4, 4, 0, 0, 0, 4, 0, 1, 2, 3, 2, 2, 2, 2, 2, 3, 4, 0, 1, 2, 2, 1, 1, 2, 2, 2, 2, 2, 3, 3, 3, 3, 3, 4, 4, 4, 4, 4, 4, 0, 0, 0, 1, 0, 1, 0, 4, 4, 3, 4, 3, 4, 4, 0, 1, 1, 2, 2, 1, 0, 0, 0, 1, 1, 2, 3, 3, 3, 3, 4, 4, 0, 1, 1, 1, 2, 2, 2, 2, 3, 4, 3, 3, 3, 4, 4, 3, 3, 4, 4, 4, 0, 0, 1, 2, 2, 2, 2, 1, 1, 1, 1, 2, 3, 3, 4, 4, 0, 1, 1, 1, 1, 0, 1, 2, 2, 2, 2, 3, 3, 2, 2, 2, 2, 1, 1, 1, 1, 1, 2, 2, 2, 3, 4, 0, 0, 0, 4, 4, 0, 1, 1, 2, 1, 2, 2, 2, 2, 2, 2, 3, 4, 4, 4, 4, 4, 0, 0, 1, 2, 3, 3, 3, 3, 3, 4, 3, 3, 3, 3, 3, 4, 3, 3, 3, 3, 3, 2, 2, 2, 2, 2, 2, 1, 1, 2, 2, 2, 2, 2, 3, 3, 3, 4, 0, 4, 3, 3, 3, 4, 0, 0, 0, 4, 0, 1, 1, 2, 2, 3, 4, 4, 0, 0, 0, 1, 1, 1, 1, 2, 2, 1, 1, 2, 2, 3, 4, 4, 4, 0, 1, 2, 2, 3, 3, 4, 4, 4, 4, 0, 1, 1, 0, 0, 4, 0, 0, 4, 3, 3, 3, 3, 3, 3, 3, 2, 2, 2, 2, 1, 1, 1, 2, 2, 3, 3, 4, 3, 4, 0, 4, 4, 4, 0, 0, 0, 0, 0, 0, 1, 1, 1, 1, 1, 1, 2, 2, 2, 3, 3, 3, 3, 3, 3, 2, 2, 2, 1, 0, 1, 1, 1, 2, 2, 1, 1, 1, 2, 2, 3, 4, 0, 4, 4, 4, 0, 4, 0, 4, 4, 4, 4, 0, 0, 4, 4, 3, 3, 4, 3, 3, 3, 3, 4, 3, 3, 3, 4, 0, 0, 1, 1, 1, 2, 3, 3, 4, 3, 3, 3, 3, 3, 2, 2, 2, 1, 1, 1, 0, 1, 1, 0, 1, 1, 0, 1, 0, 4, 3, 4, 3, 2, 1, 2, 3, 3, 3, 4, 3, 2, 2, 2, 3, 3, 3, 2, 3, 4, 4, 3, 4, 0, 1, 2, 2, 2, 2, 2, 2, 2, 3, 3, 3, 3, 3, 3, 3, 4, 4, 0, 0, 1, 1, 0, 0, 0, 1, 1, 2, 2, 2, 3, 2, 2, 2, 2, 2, 3, 4, 0, 1, 2, 3, 4, 0, 1, 1, 2, 2, 2, 2, 3, 3, 4, 4, 4, 0, 4, 0, 4, 4, 4, 4, 4, 4, 4, 4, 4, 4, 0, 4, 0, 1, 0, 0, 4, 4, 4, 0, 1, 2, 2, 2, 2, 3, 4, 4, 0, 0, 0, 0, 0, 1, 1, 2, 2, 2, 2, 3, 3, 4, 0, 0, 1, 0, 1, 0, 4, 4, 4, 0, 0, 1, 2, 3, 4, 0, 1, 2, 2, 2, 1, 1, 0, 1, 1, 2, 2, 2, 2, 3, 3, 3, 3, 3, 3, 3, 4, 3, 3, 3, 4, 0, 1, 1, 1, 2, 2, 2, 3, 4, 3, 3, 3, 4, 4, 0, 1, 1, 1, 2, 2, 3, 3, 3, 4, 0, 4, 4, 3, 3, 3, 3, 3, 3, 3, 3, 3, 4, 0, 4, 4, 3, 3, 3, 3, 4, 3, 3, 3, 3, 2, 2, 2, 1, 2, 2, 1, 1, 0, 1, 1, 1, 2, 2, 2, 1, 1, 2, 2, 1, 0, 0, 0, 4, 4, 3, 3, 4, 4, 0, 0, 4, 4, 4, 4, 4, 0, 1, 2, 2, 2, 3, 3, 3, 3, 3, 3, 3, 3, 3, 4, 0, 1, 2, 2, 2, 3, 3, 3, 3, 3, 3, 3, 4, 4, 3, 3, 4, 3, 3, 3, 2, 2, 2, 3, 4, 4, 4, 0, 0, 1, 1, 1, 1, 1, 2, 3, 3, 3, 3, 4, 0, 4, 0, 4, 0, 1, 2, 2, 2, 2, 2, 2, 3, 2, 2, 2, 2, 2, 2, 2, 2, 2, 2, 3, 4, 3, 4, 4, 0, 1, 1, 2, 3, 2, 2, 2, 2, 2, 1, 0, 1, 1, 2, 2, 2, 3, 4, 4, 0, 1, 0, 1, 1, 0, 1, 1, 1, 2, 3, 3, 4, 4, 4, 0, 4, 4, 4, 4, 0, 0, 4, 3, 4, 4, 3, 3, 3, 3, 4, 4, 0, 4, 0, 4, 4, 4, 4, 0, 0, 1, 1, 1, 2, 2, 2, 2, 2, 2, 2, 2, 2, 1, 1, 1, 1, 0, 1, 0, 0, 1, 1, 1, 1, 1, 0, 1, 2, 2, 2, 2, 1, 1, 2, 2, 2, 1, 1, 1, 0, 0, 4, 0, 1, 0, 0, 0, 0, 1, 0, 0, 4, 3, 4, 4, 0, 1, 2, 1, 2, 2, 2, 2, 3, 3, 3, 3, 3, 3, 3, 4, 4, 4, 4, 4, 0, 0, 0, 0, 0, 0, 1, 2, 2, 1, 2, 3, 3, 3, 3, 3, 3, 4, 4, 0, 1, 1, 0, 0, 4, 0, 0, 1, 2, 2, 2, 3, 4, 4, 0, 0, 1, 1, 1, 0, 1, 1, 1, 2, 2, 2, 2, 2, 2, 3, 3, 3, 3, 2, 3, 3, 3, 3, 3, 3, 4, 0, 1, 2, 2, 1]\n"
     ]
    }
   ],
   "source": [
    "# Test cell for Problem 4 - do not modify or delete this cell\n",
    "# Do execute it.\n",
    "path = generate_sample_path(5,0,1000)\n",
    "print(path)"
   ]
  },
  {
   "cell_type": "markdown",
   "id": "e8dc392a-6a45-4aca-bd77-286c8c0b8d16",
   "metadata": {},
   "source": [
    "**Problem 5 (25 points)**\n",
    "\n",
    "If our process in the discretized circle starts at position i and in one step ends at position i+1, \n",
    "we call this a *positive step* and if it ends up in position $i-1$ we call this a negative step.\n",
    "\n",
    "If our process starts at position zero at some time $t$ and is in position zero at a later time $t+k$ with no visits to zero in between, we say that \n",
    "\n",
    "- a *counterclockwise wrapping* has occured from time $t$ to time $t+k$ occurs if\n",
    "    - the process is never in position 0 at times $t+1,\\ldots,t+k-1,$ and \n",
    "    - the number of positive steps minus the number of negative steps taken at times $t,t+1,\\ldots,t+k-1$\n",
    "is $N,$ \n",
    "\n",
    "- a *clockwise wrapping* has occured from time $t$ to time $t+k$ occurs if\n",
    "    - the process is never in position 0 at times $t+1,\\ldots,t+k-1,$ and \n",
    "    - the number of positive steps minus the number of negative steps taken at times $t,t+1,\\ldots,t+k-1$\n",
    "is $-N,$ \n",
    "\n",
    "- no wrapping has occured from time $t$ to time $t+k$ occurs if\n",
    "    - the process is never in position 0 at times $t+1,\\ldots,t+k-1,$ and \n",
    "    - the number of positive steps minus the number of negative steps taken at times $t,t+1,\\ldots,t+k-1$\n",
    "is $0.$\n",
    "\n",
    "Note that if the process is in position 0 at time $t$ and at time $t+1$ then no wrapping occurs from time $t$ to $t+1.$\n",
    "\n",
    "We defined the *total number of wrappings* from time 0 to time $T$ to be the number of counterclockwise wrappings minus the number of clockwise wrappings that took place from time 0 to time $T.$\n",
    "\n",
    "Here is an example of a sequence of positions with $N=5.$\n",
    "\n",
    "$$\n",
    "0,1,2,3,2,3,2,2,3,3,4,0,4,0,0,4,3,4,0,1,2,2,2,1,1,0,1,0,1,0,4,3,2,2,3,4,0,0,4,3,2,2,3,2,1,0,1,2\n",
    "$$\n",
    "\n",
    "The times at which we visit 0 with no visits to 0 in between are:\n",
    "\n",
    "$$\n",
    "t=0,11,13,14,18,25,27,29,36,37,45,50\n",
    "$$\n",
    "\n",
    "- Time 0 to time 11 is a counterclockwise wrapping\n",
    "- Time 11 to time 13 is not a wrapping\n",
    "- Time 13 to time 14 is not a wrapping\n",
    "- Time 14 to time 18 is not a wrapping\n",
    "- Time 18 to time 25 is not a wrapping \n",
    "- Time 25 to 27 is not a wrapping\n",
    "- Time 27 to 29 is not a wrapping\n",
    "- Time 29 to 36 is not a wrapping\n",
    "- Time 36 to 37 is not a wrapping\n",
    "- Time 37 to 45 is clockwise wrapping\n",
    "- Time 45 to 50 is a counterclockwise wrapping\n",
    "\n",
    "and the total number of wrappings is 2-1=1.\n",
    "\n",
    "Write a function called **count_wrappings** that takes as input \n",
    "\n",
    "- $N$ the positive integer that determines the discretized circle, and \n",
    "- $L$ a **list** of integer positions starting in position 0 at time 0 and computes the total number of wrappings that occur from time 0 to time $T$ equal to the length of the list minus 1. You should assume tha the list contains only allowable moves that our Markov chain on the discretized circle can make, i.e. from position $i$ we can only be in position to $i-1,i$ or $i+1$ (modulo $N$) in the next step.\n",
    "\n",
    "and outputs\n",
    "\n",
    "- the number of wrappings that occur (the number of counterclockwise wrappings minus the number of clockwise wrappings)\n",
    "\n",
    "Your function should be **fully self-contained**. Any auxilliary functions you define to be used by your function **should be defined in the body of your function.**"
   ]
  },
  {
   "cell_type": "code",
   "execution_count": 13,
   "id": "b19ebb60-d094-4bf2-a133-09557e10331a",
   "metadata": {
    "tags": []
   },
   "outputs": [],
   "source": [
    "# Code cell for Problem 5 - do not delete or modify this line\n",
    "def count_wrappings(N, L):\n",
    "    counterclockwise, clockwise = 0, 0\n",
    "    def step(a, b):\n",
    "        if a == (b + 1) % N:\n",
    "            return 1\n",
    "        elif a == (b - 1) % N:\n",
    "            return -1\n",
    "        else:\n",
    "            return 0\n",
    "    zeros = []\n",
    "    for i in range(len(L) - 1):\n",
    "        if L[i] == 0:\n",
    "            zeros.append(i)\n",
    "    for j in range(len(zeros) - 1):\n",
    "        count = []\n",
    "        start, end = zeros[j], zeros[j + 1]\n",
    "        for p in range(start, end):\n",
    "            count.append(step(L[p + 1], L[p]))\n",
    "        difference = sum(count)\n",
    "        if difference == N:\n",
    "            counterclockwise += 1\n",
    "        elif difference == -N:\n",
    "            clockwise += 1\n",
    "    return counterclockwise - clockwise"
   ]
  },
  {
   "cell_type": "code",
   "execution_count": 14,
   "id": "4cee01d0-de54-4522-9060-857e365ec09d",
   "metadata": {
    "tags": []
   },
   "outputs": [
    {
     "data": {
      "text/plain": [
       "1"
      ]
     },
     "execution_count": 14,
     "metadata": {},
     "output_type": "execute_result"
    }
   ],
   "source": [
    "# Test cell1 for Problem 5 - do not modify this cell\n",
    "# Do execute it\n",
    "L=[0,1,2,3,2,3,2,2,3,3,4,0,4,0,0,4,3,4,0,1,2,2,2,1,1,0,1,0,1,0,4,3,2,2,3,4,0,0,4,3,2,2,3,2,1,0,1,2,3,4,0,1]\n",
    "count_wrappings(5,L)"
   ]
  },
  {
   "cell_type": "code",
   "execution_count": 15,
   "id": "6532b841-ff85-434d-8d38-d2785522311f",
   "metadata": {
    "tags": []
   },
   "outputs": [
    {
     "data": {
      "text/plain": [
       "26"
      ]
     },
     "execution_count": 15,
     "metadata": {},
     "output_type": "execute_result"
    }
   ],
   "source": [
    "# Test cell2 for Problem 5 - do not modify this cell\n",
    "# Do execute it\n",
    "L=[0, 4, 0, 0, 1, 2, 2, 2, 2, 2, 2, 2, 2, 2, 2, 3, 3, 3, 4, 3, 3, 3, 3, 3, 3, 3, 3, 3, 3, 3, 3, 3, 3, 4, 4, 4, 3, 3, 3, 3, 4, 4, 4, 4, 0, 1, 2, 2, 3, 3, 3, 3, 2, 2, 3, 3, 3, 3, 3, 3, 4, 0, 0, 0, 0, 4, 3, 3, 3, 3, 3, 3, 3, 3, 4, 3, 3, 3, 4, 4, 4, 4, 4, 4, 4, 4, 4, 0, 0, 4, 0, 0, 1, 2, 2, 2, 2, 2, 3, 3, 3, 3, 3, 3, 3, 3, 3, 4, 4, 4, 3, 3, 3, 3, 3, 3, 3, 3, 3, 3, 3, 3, 3, 3, 4, 3, 4, 0, 0, 0, 4, 0, 4, 3, 4, 0, 1, 1, 2, 3, 3, 3, 3, 3, 3, 3, 3, 3, 3, 3, 3, 3, 4, 0, 0, 4, 0, 4, 4, 4, 0, 1, 1, 0, 1, 1, 1, 1, 1, 1, 2, 2, 3, 4, 0, 1, 1, 1, 0, 0, 0, 4, 0, 0, 1, 2, 2, 1, 1, 2, 2, 2, 2, 2, 2, 2, 3, 3, 3, 3, 3, 3, 3, 3, 4, 4, 0, 1, 1, 2, 1, 0, 0, 1, 1, 1, 1, 1, 0, 0, 0, 0, 1, 2, 2, 2, 2, 2, 2, 2, 2, 2, 2, 3, 3, 3, 3, 3, 3, 3, 3, 3, 2, 3, 3, 3, 3, 3, 3, 2, 2, 2, 3, 3, 3, 2, 1, 1, 1, 1, 2, 3, 3, 3, 3, 3, 3, 3, 3, 4, 4, 0, 4, 4, 4, 0, 1, 1, 1, 2, 2, 2, 2, 2, 2, 3, 3, 4, 0, 4, 3, 3, 3, 3, 2, 2, 2, 2, 1, 1, 2, 2, 2, 2, 2, 2, 1, 1, 1, 2, 2, 3, 4, 0, 4, 0, 0, 0, 0, 0, 1, 1, 1, 0, 4, 4, 4, 0, 1, 2, 2, 3, 3, 3, 3, 3, 3, 4, 4, 4, 3, 4, 0, 0, 1, 2, 2, 1, 2, 2, 2, 2, 2, 2, 1, 2, 2, 1, 1, 2, 3, 2, 2, 2, 2, 2, 2, 1, 1, 0, 0, 1, 1, 1, 1, 2, 2, 2, 2, 2, 2, 2, 2, 2, 2, 2, 2, 2, 2, 2, 2, 2, 2, 2, 3, 2, 2, 2, 2, 2, 2, 3, 2, 2, 3, 3, 3, 3, 3, 3, 3, 3, 3, 3, 3, 3, 2, 3, 3, 3, 3, 3, 3, 3, 3, 4, 4, 4, 0, 1, 1, 1, 0, 0, 4, 4, 0, 0, 0, 1, 1, 2, 2, 2, 2, 2, 2, 2, 2, 3, 3, 3, 3, 2, 2, 2, 2, 2, 2, 2, 2, 2, 2, 3, 4, 4, 4, 4, 4, 4, 0, 0, 1, 2, 2, 2, 2, 2, 1, 2, 2, 2, 2, 2, 3, 4, 4, 0, 4, 4, 0, 1, 0, 0, 1, 2, 2, 2, 2, 1, 2, 2, 2, 3, 4, 4, 0, 1, 1, 1, 0, 4, 4, 0, 4, 4, 4, 0, 1, 2, 2, 2, 2, 2, 2, 2, 2, 2, 2, 1, 1, 1, 2, 3, 4, 0, 4, 4, 3, 3, 4, 0, 1, 1, 0, 1, 2, 2, 2, 2, 2, 3, 3, 3, 3, 3, 3, 3, 3, 3, 3, 4, 0, 0, 0, 1, 0, 1, 0, 0, 1, 1, 1, 1, 1, 1, 2, 3, 3, 3, 3, 4, 4, 4, 4, 4, 0, 0, 4, 3, 2, 1, 1, 0, 0, 4, 3, 3, 4, 3, 2, 2, 2, 1, 2, 2, 2, 2, 2, 2, 2, 2, 2, 2, 1, 1, 0, 1, 2, 2, 3, 3, 3, 3, 4, 4, 4, 4, 0, 1, 2, 2, 2, 2, 3, 3, 3, 3, 3, 4, 0, 1, 1, 1, 1, 2, 2, 3, 3, 3, 3, 3, 3, 3, 3, 3, 3, 3, 3, 3, 3, 3, 4, 4, 0, 1, 1, 1, 2, 2, 1, 2, 2, 2, 2, 2, 2, 2, 2, 2, 3, 3, 3, 3, 3, 3, 3, 3, 3, 3, 3, 3, 3, 2, 3, 4, 0, 1, 1, 1, 2, 1, 2, 2, 1, 0, 0, 1, 2, 1, 2, 2, 2, 2, 2, 2, 2, 2, 2, 2, 3, 3, 4, 3, 3, 3, 2, 2, 2, 2, 2, 2, 2, 2, 2, 3, 4, 4, 3, 3, 3, 3, 3, 2, 2, 2, 2, 3, 3, 4, 4, 4, 0, 1, 1, 1, 1, 1, 2, 3, 4, 3, 3, 3, 3, 3, 3, 3, 3, 3, 3, 3, 2, 2, 2, 2, 3, 4, 0, 0, 4, 3, 3, 3, 3, 3, 3, 4, 4, 0, 4, 0, 4, 0, 0, 0, 4, 3, 3, 3, 4, 0, 0, 1, 0, 1, 1, 1, 2, 2, 2, 2, 2, 3, 3, 3, 2, 2, 3, 4, 0, 0, 1, 2, 2, 1, 1, 2, 2, 2, 2, 2, 2, 2, 2, 2, 2, 2, 2, 2, 2, 2, 2, 1, 1, 1, 2, 2, 2, 2, 2, 2, 3, 3, 3, 3, 3, 2, 2, 2, 2, 2, 2, 3, 4, 0, 1, 0, 1, 0, 4, 0, 1, 2, 3, 2, 2, 2, 3, 3, 2, 3, 3, 3, 3, 3, 3, 3, 3, 3, 4, 3, 3, 3, 3, 4, 4, 4, 0, 1, 2, 2, 1, 1, 0, 0, 1, 2, 2, 2, 2, 2, 2, 2, 3, 3, 4, 0, 1, 1, 1, 0, 1, 2, 2, 3, 3, 3, 3, 3, 3, 3, 3, 3, 3, 3, 3, 3, 4, 0, 1, 1, 1, 1, 2, 2, 2, 2, 2, 2, 2, 2, 2, 2, 2, 2, 2, 1, 1, 0, 0, 0, 1, 2, 2, 2, 2, 2, 2, 2, 2, 2, 2, 2, 1, 1, 2, 3, 3, 3, 3, 4, 0, 1, 2, 2, 2, 2, 2, 2, 2, 2, 2, 2, 2, 2, 1, 2, 2, 2]\n",
    "count_wrappings(5,L)"
   ]
  },
  {
   "cell_type": "markdown",
   "id": "e2164708-ebda-44a6-be03-f43637ce9371",
   "metadata": {},
   "source": [
    "**Problem 6 (10 points)**\n",
    "\n",
    "For the Markov chain in Problem 1 starting at position 0, let $X$ denote the number of wrappings that occur from time 0 to time 100. Use Monte-Carlo simulation with a Monte-Carlo sample size of n=1,000 to  \n",
    "\n",
    "- estimate $\\mu=E[X]$ \n",
    "- estimate $\\sigma = \\sqrt{\\mbox{Var}(X)}$ \n",
    "- estimate the standard error $\\mbox{SE}(\\hat{\\mu}) = \\sigma/\\sqrt{n}$ of $\\hat{\\mu},$ and\n",
    "- get approximate 95% confidence interval $(\\mu_L,\\mu_U)$ for $\\mu.$ \n",
    "\n",
    "Assign \n",
    "\n",
    "- your estimate of $\\mu$ to a variable called **muhat**,\n",
    "- your estimate of $\\sigma$ to a variable called **sigmahat.**\n",
    "- your estimate of $\\mbox{SE}(\\hat{\\mu})$ to a variable called **SE**\n",
    "- your lower confidence bound $\\mu_L$ to a variable called **muLOWER**\n",
    "- your upper confidence bound $\\mu_U$ to a variable called **muUPPER**\n",
    "\n",
    "\n",
    "\n",
    "Use the following cell for your code."
   ]
  },
  {
   "cell_type": "code",
   "execution_count": 16,
   "id": "1f8a27ce-44a7-44a0-972c-8b87370c1c5d",
   "metadata": {
    "tags": []
   },
   "outputs": [],
   "source": [
    "# Code cell for Problem 6 - do not modify this line\n",
    "MC = []\n",
    "for i in range(1000):\n",
    "    path = generate_sample_path(5,0,100)\n",
    "    MC.append(count_wrappings(5, path))\n",
    "muhat = np.mean(MC)\n",
    "sigmahat = np.std(MC)\n",
    "SE = sigmahat / np.sqrt(1000)\n",
    "z = 1.96 # derived from 95% confidence for a normal distribution\n",
    "muLOWER = muhat - z * SE\n",
    "muUPPER = muhat + z * SE"
   ]
  },
  {
   "cell_type": "code",
   "execution_count": 17,
   "id": "c1ce2584-65bd-44b0-8bcf-7fffa3d484fc",
   "metadata": {
    "tags": []
   },
   "outputs": [
    {
     "name": "stdout",
     "output_type": "stream",
     "text": [
      "2.39\n",
      "1.2007914056987583\n",
      "0.037972358367633685\n",
      "2.315574177599438\n",
      "2.464425822400562\n"
     ]
    }
   ],
   "source": [
    "# Print cell for problem 6 - do not modify or delete this cell\n",
    "# Do execute it\n",
    "print(muhat)\n",
    "print(sigmahat)\n",
    "print(SE)\n",
    "print(muLOWER)\n",
    "print(muUPPER)"
   ]
  },
  {
   "cell_type": "markdown",
   "id": "1d5b8cfc-b71d-48c5-8fc6-623a2f374e9d",
   "metadata": {},
   "source": [
    "**Important**\n",
    "\n",
    "- Make sure you run all cells in the notebook in order and no errors occur\n",
    "- Save your notebook after you run it\n",
    "- Submit it in Canvas"
   ]
  }
 ],
 "metadata": {
  "kernelspec": {
   "display_name": "Python 3 (ipykernel)",
   "language": "python",
   "name": "python3"
  },
  "language_info": {
   "codemirror_mode": {
    "name": "ipython",
    "version": 3
   },
   "file_extension": ".py",
   "mimetype": "text/x-python",
   "name": "python",
   "nbconvert_exporter": "python",
   "pygments_lexer": "ipython3",
   "version": "3.11.4"
  }
 },
 "nbformat": 4,
 "nbformat_minor": 5
}
